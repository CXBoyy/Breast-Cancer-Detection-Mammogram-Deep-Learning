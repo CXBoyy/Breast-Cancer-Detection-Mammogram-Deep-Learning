{
 "cells": [
  {
   "cell_type": "code",
   "execution_count": 2,
   "metadata": {
    "_cell_guid": "50561769-2350-4970-8699-c76b772a1503",
    "_uuid": "af45c788-05aa-41a4-b5eb-7637d0ee2c30"
   },
   "outputs": [],
   "source": [
    "# This Python 3 environment comes with many helpful analytics libraries installed\n",
    "# It is defined by the kaggle/python Docker image: https://github.com/kaggle/docker-python\n",
    "# For example, here's several helpful packages to load\n",
    "\n",
    "import numpy as np # linear algebra\n",
    "import pandas as pd # data processing, CSV file I/O (e.g. pd.read_csv)\n",
    "\n",
    "# Input data files are available in the read-only \"../input/\" directory\n",
    "# For example, running this (by clicking run or pressing Shift+Enter) will list all files under the input directory\n",
    "\n",
    "import os\n",
    "#for dirname, _, filenames in os.walk('/kaggle/input'):\n",
    "#    for filename in filenames:\n",
    "#        print(os.path.join(dirname, filename))\n",
    "os.environ[\"TF_CPP_MIN_VLOG_LEVEL\"] = \"2\"\n",
    "\n",
    "# You can write up to 20GB to the current directory (/kaggle/working/) that gets preserved as output when you create a version using \"Save & Run All\" \n",
    "# You can also write temporary files to /kaggle/temp/, but they won't be saved outside of the current session\n",
    "\n",
    "# OUR STUFF\n",
    "# ROOT DIR FOR IMAGES: /Code/KEX-Job/Breast-Cancer-Detection-Mammogram-Deep-Learning/code/data/CBIS-DDSM/images_original/"
   ]
  },
  {
   "cell_type": "markdown",
   "metadata": {
    "_cell_guid": "a83d0262-4f42-48ba-a8b3-9c6961b16743",
    "_uuid": "286edfa1-e80d-4fd0-b93c-f0a969e3694b"
   },
   "source": [
    "# Loading the Data"
   ]
  },
  {
   "cell_type": "code",
   "execution_count": 3,
   "metadata": {
    "_cell_guid": "df63cb3e-7b1d-4576-9ea3-ce034acd27ef",
    "_uuid": "bdbca6b7-22f8-4a75-9405-f4c66306c570",
    "collapsed": false,
    "jupyter": {
     "outputs_hidden": false
    }
   },
   "outputs": [],
   "source": [
    "# import libraries\n",
    "import matplotlib.pyplot as plt\n",
    "import seaborn as sns"
   ]
  },
  {
   "cell_type": "code",
   "execution_count": 4,
   "metadata": {
    "_cell_guid": "400c2d02-fec8-46b4-ade1-54aa4154abfa",
    "_uuid": "23880ae0-cccc-4135-af33-8d5e8324246a",
    "collapsed": false,
    "jupyter": {
     "outputs_hidden": false
    }
   },
   "outputs": [
    {
     "name": "stdout",
     "output_type": "stream",
     "text": [
      "Index(['Series UID', 'Collection', '3rd Party Analysis',\n",
      "       'Data Description URI', 'Subject ID', 'Study UID', 'Study Description',\n",
      "       'Study Date', 'Series Description', 'Manufacturer', 'Modality',\n",
      "       'SOP Class Name', 'SOP Class UID', 'Number of Images', 'File Size',\n",
      "       'File Location', 'Download Timestamp'],\n",
      "      dtype='object')\n"
     ]
    }
   ],
   "source": [
    "df_meta = pd.read_csv('/Code/KEX-Job/Breast-Cancer-Detection-Mammogram-Deep-Learning/code/data/CBIS-DDSM/images_original/metadata.csv')\n",
    "df_meta.head()\n",
    "print(df_meta.columns)"
   ]
  },
  {
   "cell_type": "code",
   "execution_count": 5,
   "metadata": {
    "_cell_guid": "6b7ed5b1-480a-4939-921b-8414e28f3cdf",
    "_uuid": "c8d88852-a35a-4a88-b26d-357602efbada",
    "collapsed": false,
    "jupyter": {
     "outputs_hidden": false
    }
   },
   "outputs": [],
   "source": [
    "#full mammogram images\n",
    "full_mammo = df_meta[df_meta['Series Description']=='full mammogram images']['File Location']"
   ]
  },
  {
   "cell_type": "code",
   "execution_count": 6,
   "metadata": {
    "_cell_guid": "8835d13f-d1c7-4e0c-878a-303d29230d05",
    "_uuid": "b9defd34-9e9e-4637-8abd-44bf4e387e0f",
    "collapsed": false,
    "jupyter": {
     "outputs_hidden": false
    }
   },
   "outputs": [],
   "source": [
    "# set correct image path for image types\n",
    "imdir = '/Code/KEX-Job/Breast-Cancer-Detection-Mammogram-Deep-Learning/code/data/CBIS-DDSM/images_original/CBIS_DDSM/'"
   ]
  },
  {
   "cell_type": "code",
   "execution_count": 7,
   "metadata": {
    "_cell_guid": "f4687192-193d-47fe-88e6-6e69cd3c5a35",
    "_uuid": "1582c788-1d8d-448b-bd1c-f259032a8f49",
    "collapsed": false,
    "jupyter": {
     "outputs_hidden": false
    }
   },
   "outputs": [
    {
     "name": "stdout",
     "output_type": "stream",
     "text": [
      "Full mammo Images paths:\n",
      "\n",
      "/Code/KEX-Job/Breast-Cancer-Detection-Mammogram-Deep-Learning/code/data/CBIS-DDSM/images_original/CBIS_DDSM/Calc-Test_P_00038_LEFT_MLO/1.3.6.1.4.1.9590.100.1.2.384159464510350889125645400702639717613/1.3.6.1.4.1.9590.100.1.2.174390361112646747718661211471328897934\n"
     ]
    }
   ],
   "source": [
    "# change directory path of images\n",
    "full_mammo = full_mammo.replace(r'\\.\\\\CBIS-DDSM\\\\', imdir, regex=True)\n",
    "full_mammo = full_mammo.replace(r'\\\\', r\"/\", regex=True)\n",
    "\n",
    "# view new paths\n",
    "print('Full mammo Images paths:\\n')\n",
    "print(full_mammo.iloc[0])"
   ]
  },
  {
   "cell_type": "code",
   "execution_count": 8,
   "metadata": {
    "_cell_guid": "18bc32af-c4b5-4cc6-80e2-7c745efbf69c",
    "_uuid": "b6864666-4582-4617-94be-72c940da32b0",
    "collapsed": false,
    "jupyter": {
     "outputs_hidden": false
    }
   },
   "outputs": [
    {
     "data": {
      "text/plain": [
       "('code',\n",
       " '/Code/KEX-Job/Breast-Cancer-Detection-Mammogram-Deep-Learning/code/data/CBIS-DDSM/images_original/CBIS_DDSM/Mass-Training_P_02092_LEFT_MLO/1.3.6.1.4.1.9590.100.1.2.322851018411213611731661082961359065216/1.3.6.1.4.1.9590.100.1.2.290251769212905477734669932883242291615')"
      ]
     },
     "execution_count": 8,
     "metadata": {},
     "output_type": "execute_result"
    }
   ],
   "source": [
    "# organize image paths\n",
    "full_mammo_dict = dict()\n",
    "\n",
    "for dicom in full_mammo:\n",
    "    key = dicom.split(\"/\")[4]\n",
    "    full_mammo_dict[key] = dicom\n",
    "\n",
    "# view keys\n",
    "next(iter((full_mammo_dict.items())))"
   ]
  },
  {
   "cell_type": "markdown",
   "metadata": {
    "_cell_guid": "97278242-a0f5-4f48-94fd-08cff86ffc3b",
    "_uuid": "70ab5e70-772d-4289-966b-210349311488"
   },
   "source": [
    "# Mass Dataset"
   ]
  },
  {
   "cell_type": "code",
   "execution_count": 9,
   "metadata": {
    "_cell_guid": "40703553-dd42-47c4-a69e-ecd37caee88c",
    "_uuid": "01eecd76-2f40-4681-ad81-1cbb791d1290",
    "collapsed": false,
    "jupyter": {
     "outputs_hidden": false
    }
   },
   "outputs": [
    {
     "data": {
      "text/html": [
       "<div>\n",
       "<style scoped>\n",
       "    .dataframe tbody tr th:only-of-type {\n",
       "        vertical-align: middle;\n",
       "    }\n",
       "\n",
       "    .dataframe tbody tr th {\n",
       "        vertical-align: top;\n",
       "    }\n",
       "\n",
       "    .dataframe thead th {\n",
       "        text-align: right;\n",
       "    }\n",
       "</style>\n",
       "<table border=\"1\" class=\"dataframe\">\n",
       "  <thead>\n",
       "    <tr style=\"text-align: right;\">\n",
       "      <th></th>\n",
       "      <th>img</th>\n",
       "      <th>img_path</th>\n",
       "      <th>label</th>\n",
       "    </tr>\n",
       "  </thead>\n",
       "  <tbody>\n",
       "    <tr>\n",
       "      <th>0</th>\n",
       "      <td>Mass-Training_P_00001_LEFT_CC</td>\n",
       "      <td>/Code/KEX-Job/Breast-Cancer-Detection-Mammogra...</td>\n",
       "      <td>MALIGNANT</td>\n",
       "    </tr>\n",
       "    <tr>\n",
       "      <th>1</th>\n",
       "      <td>Mass-Training_P_00001_LEFT_MLO</td>\n",
       "      <td>/Code/KEX-Job/Breast-Cancer-Detection-Mammogra...</td>\n",
       "      <td>MALIGNANT</td>\n",
       "    </tr>\n",
       "    <tr>\n",
       "      <th>2</th>\n",
       "      <td>Mass-Training_P_00004_LEFT_CC</td>\n",
       "      <td>/Code/KEX-Job/Breast-Cancer-Detection-Mammogra...</td>\n",
       "      <td>BENIGN</td>\n",
       "    </tr>\n",
       "    <tr>\n",
       "      <th>3</th>\n",
       "      <td>Mass-Training_P_00004_LEFT_MLO</td>\n",
       "      <td>/Code/KEX-Job/Breast-Cancer-Detection-Mammogra...</td>\n",
       "      <td>BENIGN</td>\n",
       "    </tr>\n",
       "    <tr>\n",
       "      <th>4</th>\n",
       "      <td>Mass-Training_P_00004_RIGHT_MLO</td>\n",
       "      <td>/Code/KEX-Job/Breast-Cancer-Detection-Mammogra...</td>\n",
       "      <td>BENIGN</td>\n",
       "    </tr>\n",
       "  </tbody>\n",
       "</table>\n",
       "</div>"
      ],
      "text/plain": [
       "                               img  \\\n",
       "0    Mass-Training_P_00001_LEFT_CC   \n",
       "1   Mass-Training_P_00001_LEFT_MLO   \n",
       "2    Mass-Training_P_00004_LEFT_CC   \n",
       "3   Mass-Training_P_00004_LEFT_MLO   \n",
       "4  Mass-Training_P_00004_RIGHT_MLO   \n",
       "\n",
       "                                            img_path      label  \n",
       "0  /Code/KEX-Job/Breast-Cancer-Detection-Mammogra...  MALIGNANT  \n",
       "1  /Code/KEX-Job/Breast-Cancer-Detection-Mammogra...  MALIGNANT  \n",
       "2  /Code/KEX-Job/Breast-Cancer-Detection-Mammogra...     BENIGN  \n",
       "3  /Code/KEX-Job/Breast-Cancer-Detection-Mammogra...     BENIGN  \n",
       "4  /Code/KEX-Job/Breast-Cancer-Detection-Mammogra...     BENIGN  "
      ]
     },
     "execution_count": 9,
     "metadata": {},
     "output_type": "execute_result"
    }
   ],
   "source": [
    "# load the mass dataset\n",
    "mass_train = pd.read_csv('/Code/KEX-Job/Breast-Cancer-Detection-Mammogram-Deep-Learning/code/data/CBIS-DDSM/mass-training.csv')\n",
    "mass_test = pd.read_csv('/Code/KEX-Job/Breast-Cancer-Detection-Mammogram-Deep-Learning/code/data/CBIS-DDSM/mass-test.csv')\n",
    "\n",
    "mass_train.head()"
   ]
  },
  {
   "cell_type": "code",
   "execution_count": 10,
   "metadata": {
    "_cell_guid": "d71edc00-7adf-4b14-a720-2a0bfd84ba1c",
    "_uuid": "7fecd20c-0af2-4a69-a808-c233f34d5dda",
    "collapsed": false,
    "jupyter": {
     "outputs_hidden": false
    }
   },
   "outputs": [],
   "source": [
    "# fix image paths\n",
    "def fix_image_path(data):\n",
    "    \"\"\"correct dicom paths to correct image paths\"\"\"\n",
    "    for index, img in enumerate(data.values):\n",
    "        print(img)\n",
    "        img_name = img[1].split(\"/\")[2]\n",
    "        data.iloc[index,1] = full_mammo_dict[img_name]\n",
    "        \n",
    "# apply to datasets\n",
    "#fix_image_path(mass_train)\n",
    "#fix_image_path(mass_test)"
   ]
  },
  {
   "cell_type": "code",
   "execution_count": 11,
   "metadata": {
    "_cell_guid": "631f704b-5e68-440f-9718-bbf5b2507043",
    "_uuid": "0c15af8e-e8dd-49a2-974d-7506538f82a7",
    "collapsed": false,
    "jupyter": {
     "outputs_hidden": false
    }
   },
   "outputs": [
    {
     "data": {
      "text/plain": [
       "array(['MALIGNANT', 'BENIGN'], dtype=object)"
      ]
     },
     "execution_count": 11,
     "metadata": {},
     "output_type": "execute_result"
    }
   ],
   "source": [
    "# check unique values in pathology column\n",
    "mass_train[\"label\"].unique()"
   ]
  },
  {
   "cell_type": "code",
   "execution_count": 12,
   "metadata": {
    "_cell_guid": "0fe47d91-8f29-4d6f-9e02-94892c8b9353",
    "_uuid": "af1b717f-a61c-4877-a686-ca331118572d",
    "collapsed": false,
    "jupyter": {
     "outputs_hidden": false
    }
   },
   "outputs": [
    {
     "name": "stdout",
     "output_type": "stream",
     "text": [
      "<class 'pandas.core.frame.DataFrame'>\n",
      "RangeIndex: 1225 entries, 0 to 1224\n",
      "Data columns (total 3 columns):\n",
      " #   Column    Non-Null Count  Dtype \n",
      "---  ------    --------------  ----- \n",
      " 0   img       1225 non-null   object\n",
      " 1   img_path  1225 non-null   object\n",
      " 2   label     1225 non-null   object\n",
      "dtypes: object(3)\n",
      "memory usage: 28.8+ KB\n"
     ]
    }
   ],
   "source": [
    "mass_train.info()"
   ]
  },
  {
   "cell_type": "code",
   "execution_count": 13,
   "metadata": {
    "_cell_guid": "4def709e-b886-4948-a001-fe3de4f3f72c",
    "_uuid": "c6ac7da9-80ca-4c8d-9184-86f915fbb25e",
    "collapsed": false,
    "jupyter": {
     "outputs_hidden": false
    }
   },
   "outputs": [
    {
     "data": {
      "text/html": [
       "<div>\n",
       "<style scoped>\n",
       "    .dataframe tbody tr th:only-of-type {\n",
       "        vertical-align: middle;\n",
       "    }\n",
       "\n",
       "    .dataframe tbody tr th {\n",
       "        vertical-align: top;\n",
       "    }\n",
       "\n",
       "    .dataframe thead th {\n",
       "        text-align: right;\n",
       "    }\n",
       "</style>\n",
       "<table border=\"1\" class=\"dataframe\">\n",
       "  <thead>\n",
       "    <tr style=\"text-align: right;\">\n",
       "      <th></th>\n",
       "      <th>img</th>\n",
       "      <th>img_path</th>\n",
       "      <th>label</th>\n",
       "    </tr>\n",
       "  </thead>\n",
       "  <tbody>\n",
       "    <tr>\n",
       "      <th>0</th>\n",
       "      <td>Mass-Training_P_00001_LEFT_CC</td>\n",
       "      <td>/Code/KEX-Job/Breast-Cancer-Detection-Mammogra...</td>\n",
       "      <td>MALIGNANT</td>\n",
       "    </tr>\n",
       "    <tr>\n",
       "      <th>1</th>\n",
       "      <td>Mass-Training_P_00001_LEFT_MLO</td>\n",
       "      <td>/Code/KEX-Job/Breast-Cancer-Detection-Mammogra...</td>\n",
       "      <td>MALIGNANT</td>\n",
       "    </tr>\n",
       "    <tr>\n",
       "      <th>2</th>\n",
       "      <td>Mass-Training_P_00004_LEFT_CC</td>\n",
       "      <td>/Code/KEX-Job/Breast-Cancer-Detection-Mammogra...</td>\n",
       "      <td>BENIGN</td>\n",
       "    </tr>\n",
       "    <tr>\n",
       "      <th>3</th>\n",
       "      <td>Mass-Training_P_00004_LEFT_MLO</td>\n",
       "      <td>/Code/KEX-Job/Breast-Cancer-Detection-Mammogra...</td>\n",
       "      <td>BENIGN</td>\n",
       "    </tr>\n",
       "    <tr>\n",
       "      <th>4</th>\n",
       "      <td>Mass-Training_P_00004_RIGHT_MLO</td>\n",
       "      <td>/Code/KEX-Job/Breast-Cancer-Detection-Mammogra...</td>\n",
       "      <td>BENIGN</td>\n",
       "    </tr>\n",
       "  </tbody>\n",
       "</table>\n",
       "</div>"
      ],
      "text/plain": [
       "                               img  \\\n",
       "0    Mass-Training_P_00001_LEFT_CC   \n",
       "1   Mass-Training_P_00001_LEFT_MLO   \n",
       "2    Mass-Training_P_00004_LEFT_CC   \n",
       "3   Mass-Training_P_00004_LEFT_MLO   \n",
       "4  Mass-Training_P_00004_RIGHT_MLO   \n",
       "\n",
       "                                            img_path      label  \n",
       "0  /Code/KEX-Job/Breast-Cancer-Detection-Mammogra...  MALIGNANT  \n",
       "1  /Code/KEX-Job/Breast-Cancer-Detection-Mammogra...  MALIGNANT  \n",
       "2  /Code/KEX-Job/Breast-Cancer-Detection-Mammogra...     BENIGN  \n",
       "3  /Code/KEX-Job/Breast-Cancer-Detection-Mammogra...     BENIGN  \n",
       "4  /Code/KEX-Job/Breast-Cancer-Detection-Mammogra...     BENIGN  "
      ]
     },
     "execution_count": 13,
     "metadata": {},
     "output_type": "execute_result"
    }
   ],
   "source": [
    "# rename columns\n",
    "mass_train = mass_train.rename(columns={'left or right breast': 'left_or_right_breast',\n",
    "                                           'image view': 'image_view',\n",
    "                                           'abnormality id': 'abnormality_id',\n",
    "                                           'abnormality type': 'abnormality_type',\n",
    "                                           'mass shape': 'mass_shape',\n",
    "                                           'mass margins': 'mass_margins',\n",
    "                                           'image file path': 'image_file_path',\n",
    "                                           'cropped image file path': 'cropped_image_file_path',\n",
    "                                           'ROI mask file path': 'ROI_mask_file_path'})\n",
    "\n",
    "mass_train.head(5)"
   ]
  },
  {
   "cell_type": "code",
   "execution_count": 14,
   "metadata": {
    "_cell_guid": "c80006ce-2187-40ab-9c72-8eeb292fd9bb",
    "_uuid": "ba0fccf4-254a-4a62-a642-d362e725abdd",
    "collapsed": false,
    "jupyter": {
     "outputs_hidden": false
    }
   },
   "outputs": [
    {
     "data": {
      "text/plain": [
       "img         0\n",
       "img_path    0\n",
       "label       0\n",
       "dtype: int64"
      ]
     },
     "execution_count": 14,
     "metadata": {},
     "output_type": "execute_result"
    }
   ],
   "source": [
    "# check for null values\n",
    "mass_train.isnull().sum()"
   ]
  },
  {
   "cell_type": "code",
   "execution_count": 15,
   "metadata": {
    "_cell_guid": "f93a5fb3-80e2-48e7-b1a5-1851e121c31f",
    "_uuid": "11e0bce9-2e42-4f79-8af5-2b9318f3e09c",
    "collapsed": false,
    "jupyter": {
     "outputs_hidden": false
    }
   },
   "outputs": [
    {
     "ename": "KeyError",
     "evalue": "'mass_shape'",
     "output_type": "error",
     "traceback": [
      "\u001b[1;31m---------------------------------------------------------------------------\u001b[0m",
      "\u001b[1;31mKeyError\u001b[0m                                  Traceback (most recent call last)",
      "File \u001b[1;32mc:\\ProgramData\\anaconda3\\envs\\kex-env\\lib\\site-packages\\pandas\\core\\indexes\\base.py:3805\u001b[0m, in \u001b[0;36mIndex.get_loc\u001b[1;34m(self, key)\u001b[0m\n\u001b[0;32m   3804\u001b[0m \u001b[38;5;28;01mtry\u001b[39;00m:\n\u001b[1;32m-> 3805\u001b[0m     \u001b[38;5;28;01mreturn\u001b[39;00m \u001b[38;5;28;43mself\u001b[39;49m\u001b[38;5;241;43m.\u001b[39;49m\u001b[43m_engine\u001b[49m\u001b[38;5;241;43m.\u001b[39;49m\u001b[43mget_loc\u001b[49m\u001b[43m(\u001b[49m\u001b[43mcasted_key\u001b[49m\u001b[43m)\u001b[49m\n\u001b[0;32m   3806\u001b[0m \u001b[38;5;28;01mexcept\u001b[39;00m \u001b[38;5;167;01mKeyError\u001b[39;00m \u001b[38;5;28;01mas\u001b[39;00m err:\n",
      "File \u001b[1;32mindex.pyx:167\u001b[0m, in \u001b[0;36mpandas._libs.index.IndexEngine.get_loc\u001b[1;34m()\u001b[0m\n",
      "File \u001b[1;32mindex.pyx:196\u001b[0m, in \u001b[0;36mpandas._libs.index.IndexEngine.get_loc\u001b[1;34m()\u001b[0m\n",
      "File \u001b[1;32mpandas\\\\_libs\\\\hashtable_class_helper.pxi:7081\u001b[0m, in \u001b[0;36mpandas._libs.hashtable.PyObjectHashTable.get_item\u001b[1;34m()\u001b[0m\n",
      "File \u001b[1;32mpandas\\\\_libs\\\\hashtable_class_helper.pxi:7089\u001b[0m, in \u001b[0;36mpandas._libs.hashtable.PyObjectHashTable.get_item\u001b[1;34m()\u001b[0m\n",
      "\u001b[1;31mKeyError\u001b[0m: 'mass_shape'",
      "\nThe above exception was the direct cause of the following exception:\n",
      "\u001b[1;31mKeyError\u001b[0m                                  Traceback (most recent call last)",
      "Cell \u001b[1;32mIn[15], line 2\u001b[0m\n\u001b[0;32m      1\u001b[0m \u001b[38;5;66;03m# fill in missing values using the backwards fill method\u001b[39;00m\n\u001b[1;32m----> 2\u001b[0m mass_train[\u001b[38;5;124m'\u001b[39m\u001b[38;5;124mmass_shape\u001b[39m\u001b[38;5;124m'\u001b[39m] \u001b[38;5;241m=\u001b[39m \u001b[43mmass_train\u001b[49m\u001b[43m[\u001b[49m\u001b[38;5;124;43m'\u001b[39;49m\u001b[38;5;124;43mmass_shape\u001b[39;49m\u001b[38;5;124;43m'\u001b[39;49m\u001b[43m]\u001b[49m\u001b[38;5;241m.\u001b[39mbfill()\n\u001b[0;32m      3\u001b[0m mass_train[\u001b[38;5;124m'\u001b[39m\u001b[38;5;124mmass_margins\u001b[39m\u001b[38;5;124m'\u001b[39m] \u001b[38;5;241m=\u001b[39m mass_train[\u001b[38;5;124m'\u001b[39m\u001b[38;5;124mmass_margins\u001b[39m\u001b[38;5;124m'\u001b[39m]\u001b[38;5;241m.\u001b[39mbfill()\n\u001b[0;32m      5\u001b[0m \u001b[38;5;66;03m#check null values\u001b[39;00m\n",
      "File \u001b[1;32mc:\\ProgramData\\anaconda3\\envs\\kex-env\\lib\\site-packages\\pandas\\core\\frame.py:4102\u001b[0m, in \u001b[0;36mDataFrame.__getitem__\u001b[1;34m(self, key)\u001b[0m\n\u001b[0;32m   4100\u001b[0m \u001b[38;5;28;01mif\u001b[39;00m \u001b[38;5;28mself\u001b[39m\u001b[38;5;241m.\u001b[39mcolumns\u001b[38;5;241m.\u001b[39mnlevels \u001b[38;5;241m>\u001b[39m \u001b[38;5;241m1\u001b[39m:\n\u001b[0;32m   4101\u001b[0m     \u001b[38;5;28;01mreturn\u001b[39;00m \u001b[38;5;28mself\u001b[39m\u001b[38;5;241m.\u001b[39m_getitem_multilevel(key)\n\u001b[1;32m-> 4102\u001b[0m indexer \u001b[38;5;241m=\u001b[39m \u001b[38;5;28;43mself\u001b[39;49m\u001b[38;5;241;43m.\u001b[39;49m\u001b[43mcolumns\u001b[49m\u001b[38;5;241;43m.\u001b[39;49m\u001b[43mget_loc\u001b[49m\u001b[43m(\u001b[49m\u001b[43mkey\u001b[49m\u001b[43m)\u001b[49m\n\u001b[0;32m   4103\u001b[0m \u001b[38;5;28;01mif\u001b[39;00m is_integer(indexer):\n\u001b[0;32m   4104\u001b[0m     indexer \u001b[38;5;241m=\u001b[39m [indexer]\n",
      "File \u001b[1;32mc:\\ProgramData\\anaconda3\\envs\\kex-env\\lib\\site-packages\\pandas\\core\\indexes\\base.py:3812\u001b[0m, in \u001b[0;36mIndex.get_loc\u001b[1;34m(self, key)\u001b[0m\n\u001b[0;32m   3807\u001b[0m     \u001b[38;5;28;01mif\u001b[39;00m \u001b[38;5;28misinstance\u001b[39m(casted_key, \u001b[38;5;28mslice\u001b[39m) \u001b[38;5;129;01mor\u001b[39;00m (\n\u001b[0;32m   3808\u001b[0m         \u001b[38;5;28misinstance\u001b[39m(casted_key, abc\u001b[38;5;241m.\u001b[39mIterable)\n\u001b[0;32m   3809\u001b[0m         \u001b[38;5;129;01mand\u001b[39;00m \u001b[38;5;28many\u001b[39m(\u001b[38;5;28misinstance\u001b[39m(x, \u001b[38;5;28mslice\u001b[39m) \u001b[38;5;28;01mfor\u001b[39;00m x \u001b[38;5;129;01min\u001b[39;00m casted_key)\n\u001b[0;32m   3810\u001b[0m     ):\n\u001b[0;32m   3811\u001b[0m         \u001b[38;5;28;01mraise\u001b[39;00m InvalidIndexError(key)\n\u001b[1;32m-> 3812\u001b[0m     \u001b[38;5;28;01mraise\u001b[39;00m \u001b[38;5;167;01mKeyError\u001b[39;00m(key) \u001b[38;5;28;01mfrom\u001b[39;00m \u001b[38;5;21;01merr\u001b[39;00m\n\u001b[0;32m   3813\u001b[0m \u001b[38;5;28;01mexcept\u001b[39;00m \u001b[38;5;167;01mTypeError\u001b[39;00m:\n\u001b[0;32m   3814\u001b[0m     \u001b[38;5;66;03m# If we have a listlike key, _check_indexing_error will raise\u001b[39;00m\n\u001b[0;32m   3815\u001b[0m     \u001b[38;5;66;03m#  InvalidIndexError. Otherwise we fall through and re-raise\u001b[39;00m\n\u001b[0;32m   3816\u001b[0m     \u001b[38;5;66;03m#  the TypeError.\u001b[39;00m\n\u001b[0;32m   3817\u001b[0m     \u001b[38;5;28mself\u001b[39m\u001b[38;5;241m.\u001b[39m_check_indexing_error(key)\n",
      "\u001b[1;31mKeyError\u001b[0m: 'mass_shape'"
     ]
    }
   ],
   "source": [
    "# fill in missing values using the backwards fill method\n",
    "mass_train['mass_shape'] = mass_train['mass_shape'].bfill()\n",
    "mass_train['mass_margins'] = mass_train['mass_margins'].bfill()\n",
    "\n",
    "#check null values\n",
    "mass_train.isnull().sum()"
   ]
  },
  {
   "cell_type": "code",
   "execution_count": null,
   "metadata": {
    "_cell_guid": "f9ef7cd4-e064-4b33-8e1b-a6ae3489692e",
    "_uuid": "ea2bfd38-f29d-4604-986b-28625ab50a4f",
    "collapsed": false,
    "jupyter": {
     "outputs_hidden": false
    }
   },
   "outputs": [
    {
     "data": {
      "text/html": [
       "<div>\n",
       "<style scoped>\n",
       "    .dataframe tbody tr th:only-of-type {\n",
       "        vertical-align: middle;\n",
       "    }\n",
       "\n",
       "    .dataframe tbody tr th {\n",
       "        vertical-align: top;\n",
       "    }\n",
       "\n",
       "    .dataframe thead th {\n",
       "        text-align: right;\n",
       "    }\n",
       "</style>\n",
       "<table border=\"1\" class=\"dataframe\">\n",
       "  <thead>\n",
       "    <tr style=\"text-align: right;\">\n",
       "      <th></th>\n",
       "      <th>img</th>\n",
       "      <th>img_path</th>\n",
       "      <th>label</th>\n",
       "    </tr>\n",
       "  </thead>\n",
       "  <tbody>\n",
       "    <tr>\n",
       "      <th>count</th>\n",
       "      <td>1225</td>\n",
       "      <td>1225</td>\n",
       "      <td>1225</td>\n",
       "    </tr>\n",
       "    <tr>\n",
       "      <th>unique</th>\n",
       "      <td>1225</td>\n",
       "      <td>1225</td>\n",
       "      <td>2</td>\n",
       "    </tr>\n",
       "    <tr>\n",
       "      <th>top</th>\n",
       "      <td>Mass-Training_P_00001_LEFT_CC</td>\n",
       "      <td>/Code/KEX-Job/Breast-Cancer-Detection-Mammogra...</td>\n",
       "      <td>BENIGN</td>\n",
       "    </tr>\n",
       "    <tr>\n",
       "      <th>freq</th>\n",
       "      <td>1</td>\n",
       "      <td>1</td>\n",
       "      <td>629</td>\n",
       "    </tr>\n",
       "  </tbody>\n",
       "</table>\n",
       "</div>"
      ],
      "text/plain": [
       "                                  img  \\\n",
       "count                            1225   \n",
       "unique                           1225   \n",
       "top     Mass-Training_P_00001_LEFT_CC   \n",
       "freq                                1   \n",
       "\n",
       "                                                 img_path   label  \n",
       "count                                                1225    1225  \n",
       "unique                                               1225       2  \n",
       "top     /Code/KEX-Job/Breast-Cancer-Detection-Mammogra...  BENIGN  \n",
       "freq                                                    1     629  "
      ]
     },
     "execution_count": 15,
     "metadata": {},
     "output_type": "execute_result"
    }
   ],
   "source": [
    "# quantitative summary of features\n",
    "mass_train.describe()"
   ]
  },
  {
   "cell_type": "code",
   "execution_count": null,
   "metadata": {
    "_cell_guid": "ab735a0e-6e03-45cc-8699-49509a80db3e",
    "_uuid": "a9f5ede7-65be-4ae8-9ad9-0bd7124a0e2a",
    "collapsed": false,
    "jupyter": {
     "outputs_hidden": false
    }
   },
   "outputs": [
    {
     "data": {
      "text/html": [
       "<div>\n",
       "<style scoped>\n",
       "    .dataframe tbody tr th:only-of-type {\n",
       "        vertical-align: middle;\n",
       "    }\n",
       "\n",
       "    .dataframe tbody tr th {\n",
       "        vertical-align: top;\n",
       "    }\n",
       "\n",
       "    .dataframe thead th {\n",
       "        text-align: right;\n",
       "    }\n",
       "</style>\n",
       "<table border=\"1\" class=\"dataframe\">\n",
       "  <thead>\n",
       "    <tr style=\"text-align: right;\">\n",
       "      <th></th>\n",
       "      <th>img</th>\n",
       "      <th>img_path</th>\n",
       "      <th>label</th>\n",
       "    </tr>\n",
       "  </thead>\n",
       "  <tbody>\n",
       "    <tr>\n",
       "      <th>0</th>\n",
       "      <td>Mass-Test_P_00016_LEFT_CC</td>\n",
       "      <td>/Code/KEX-Job/Breast-Cancer-Detection-Mammogra...</td>\n",
       "      <td>MALIGNANT</td>\n",
       "    </tr>\n",
       "    <tr>\n",
       "      <th>1</th>\n",
       "      <td>Mass-Test_P_00016_LEFT_MLO</td>\n",
       "      <td>/Code/KEX-Job/Breast-Cancer-Detection-Mammogra...</td>\n",
       "      <td>MALIGNANT</td>\n",
       "    </tr>\n",
       "    <tr>\n",
       "      <th>2</th>\n",
       "      <td>Mass-Test_P_00017_LEFT_CC</td>\n",
       "      <td>/Code/KEX-Job/Breast-Cancer-Detection-Mammogra...</td>\n",
       "      <td>MALIGNANT</td>\n",
       "    </tr>\n",
       "    <tr>\n",
       "      <th>3</th>\n",
       "      <td>Mass-Test_P_00017_LEFT_MLO</td>\n",
       "      <td>/Code/KEX-Job/Breast-Cancer-Detection-Mammogra...</td>\n",
       "      <td>MALIGNANT</td>\n",
       "    </tr>\n",
       "    <tr>\n",
       "      <th>4</th>\n",
       "      <td>Mass-Test_P_00032_RIGHT_CC</td>\n",
       "      <td>/Code/KEX-Job/Breast-Cancer-Detection-Mammogra...</td>\n",
       "      <td>BENIGN</td>\n",
       "    </tr>\n",
       "  </tbody>\n",
       "</table>\n",
       "</div>"
      ],
      "text/plain": [
       "                          img  \\\n",
       "0   Mass-Test_P_00016_LEFT_CC   \n",
       "1  Mass-Test_P_00016_LEFT_MLO   \n",
       "2   Mass-Test_P_00017_LEFT_CC   \n",
       "3  Mass-Test_P_00017_LEFT_MLO   \n",
       "4  Mass-Test_P_00032_RIGHT_CC   \n",
       "\n",
       "                                            img_path      label  \n",
       "0  /Code/KEX-Job/Breast-Cancer-Detection-Mammogra...  MALIGNANT  \n",
       "1  /Code/KEX-Job/Breast-Cancer-Detection-Mammogra...  MALIGNANT  \n",
       "2  /Code/KEX-Job/Breast-Cancer-Detection-Mammogra...  MALIGNANT  \n",
       "3  /Code/KEX-Job/Breast-Cancer-Detection-Mammogra...  MALIGNANT  \n",
       "4  /Code/KEX-Job/Breast-Cancer-Detection-Mammogra...     BENIGN  "
      ]
     },
     "execution_count": 16,
     "metadata": {},
     "output_type": "execute_result"
    }
   ],
   "source": [
    "# view mass_test\n",
    "mass_test.head()"
   ]
  },
  {
   "cell_type": "code",
   "execution_count": null,
   "metadata": {
    "_cell_guid": "5d9fc941-4415-42ed-9203-fbe8aa95a523",
    "_uuid": "2b2fd848-1546-486d-b8ff-15de52ff7af1",
    "collapsed": false,
    "jupyter": {
     "outputs_hidden": false
    }
   },
   "outputs": [
    {
     "name": "stdout",
     "output_type": "stream",
     "text": [
      "Shape of mass_train: (1225, 3)\n",
      "Shape of mass_test: (359, 3)\n"
     ]
    }
   ],
   "source": [
    "# check datasets shape\n",
    "print(f'Shape of mass_train: {mass_train.shape}')\n",
    "print(f'Shape of mass_test: {mass_test.shape}')"
   ]
  },
  {
   "cell_type": "code",
   "execution_count": null,
   "metadata": {
    "_cell_guid": "3f4e3b18-c48f-4243-a613-ae6a810b6178",
    "_uuid": "2ed735e4-ed81-4850-a1c8-a65ae00c7083",
    "collapsed": false,
    "jupyter": {
     "outputs_hidden": false
    }
   },
   "outputs": [
    {
     "data": {
      "text/plain": [
       "img         0\n",
       "img_path    0\n",
       "label       0\n",
       "dtype: int64"
      ]
     },
     "execution_count": 18,
     "metadata": {},
     "output_type": "execute_result"
    }
   ],
   "source": [
    "mass_test.isnull().sum()"
   ]
  },
  {
   "cell_type": "code",
   "execution_count": null,
   "metadata": {
    "_cell_guid": "ea77963b-c11c-4581-aa43-4efa637a2f23",
    "_uuid": "955a6458-e26e-4726-b66e-97b17e5104bf",
    "collapsed": false,
    "jupyter": {
     "outputs_hidden": false
    }
   },
   "outputs": [],
   "source": [
    "mass_test = mass_test.rename(columns={'left or right breast': 'left_or_right_breast',\n",
    "                                           'image view': 'image_view',\n",
    "                                           'abnormality id': 'abnormality_id',\n",
    "                                           'abnormality type': 'abnormality_type',\n",
    "                                           'mass shape': 'mass_shape',\n",
    "                                           'mass margins': 'mass_margins',\n",
    "                                           'image file path': 'image_file_path',\n",
    "                                           'cropped image file path': 'cropped_image_file_path',\n",
    "                                           'ROI mask file path': 'ROI_mask_file_path'})"
   ]
  },
  {
   "cell_type": "code",
   "execution_count": null,
   "metadata": {
    "_cell_guid": "986db4fa-e1b3-4568-a882-98774fc3c715",
    "_uuid": "0f99c4b4-651c-4096-bf43-b64eb2c64e18",
    "collapsed": false,
    "jupyter": {
     "outputs_hidden": false
    }
   },
   "outputs": [
    {
     "ename": "KeyError",
     "evalue": "'mass_margins'",
     "output_type": "error",
     "traceback": [
      "\u001b[1;31m---------------------------------------------------------------------------\u001b[0m",
      "\u001b[1;31mKeyError\u001b[0m                                  Traceback (most recent call last)",
      "File \u001b[1;32mC:\\ProgramData\\anaconda3\\envs\\kex-env\\lib\\site-packages\\pandas\\core\\indexes\\base.py:3805\u001b[0m, in \u001b[0;36mIndex.get_loc\u001b[1;34m(self, key)\u001b[0m\n\u001b[0;32m   3804\u001b[0m \u001b[38;5;28;01mtry\u001b[39;00m:\n\u001b[1;32m-> 3805\u001b[0m     \u001b[38;5;28;01mreturn\u001b[39;00m \u001b[38;5;28;43mself\u001b[39;49m\u001b[38;5;241;43m.\u001b[39;49m\u001b[43m_engine\u001b[49m\u001b[38;5;241;43m.\u001b[39;49m\u001b[43mget_loc\u001b[49m\u001b[43m(\u001b[49m\u001b[43mcasted_key\u001b[49m\u001b[43m)\u001b[49m\n\u001b[0;32m   3806\u001b[0m \u001b[38;5;28;01mexcept\u001b[39;00m \u001b[38;5;167;01mKeyError\u001b[39;00m \u001b[38;5;28;01mas\u001b[39;00m err:\n",
      "File \u001b[1;32mindex.pyx:167\u001b[0m, in \u001b[0;36mpandas._libs.index.IndexEngine.get_loc\u001b[1;34m()\u001b[0m\n",
      "File \u001b[1;32mindex.pyx:196\u001b[0m, in \u001b[0;36mpandas._libs.index.IndexEngine.get_loc\u001b[1;34m()\u001b[0m\n",
      "File \u001b[1;32mpandas\\\\_libs\\\\hashtable_class_helper.pxi:7081\u001b[0m, in \u001b[0;36mpandas._libs.hashtable.PyObjectHashTable.get_item\u001b[1;34m()\u001b[0m\n",
      "File \u001b[1;32mpandas\\\\_libs\\\\hashtable_class_helper.pxi:7089\u001b[0m, in \u001b[0;36mpandas._libs.hashtable.PyObjectHashTable.get_item\u001b[1;34m()\u001b[0m\n",
      "\u001b[1;31mKeyError\u001b[0m: 'mass_margins'",
      "\nThe above exception was the direct cause of the following exception:\n",
      "\u001b[1;31mKeyError\u001b[0m                                  Traceback (most recent call last)",
      "Cell \u001b[1;32mIn[20], line 2\u001b[0m\n\u001b[0;32m      1\u001b[0m \u001b[38;5;66;03m# fill in missing values using the backwards fill method\u001b[39;00m\n\u001b[1;32m----> 2\u001b[0m mass_test[\u001b[38;5;124m'\u001b[39m\u001b[38;5;124mmass_margins\u001b[39m\u001b[38;5;124m'\u001b[39m] \u001b[38;5;241m=\u001b[39m \u001b[43mmass_test\u001b[49m\u001b[43m[\u001b[49m\u001b[38;5;124;43m'\u001b[39;49m\u001b[38;5;124;43mmass_margins\u001b[39;49m\u001b[38;5;124;43m'\u001b[39;49m\u001b[43m]\u001b[49m\u001b[38;5;241m.\u001b[39mbfill()\n\u001b[0;32m      4\u001b[0m \u001b[38;5;66;03m#check null values\u001b[39;00m\n\u001b[0;32m      5\u001b[0m mass_test\u001b[38;5;241m.\u001b[39misnull()\u001b[38;5;241m.\u001b[39msum()\n",
      "File \u001b[1;32mC:\\ProgramData\\anaconda3\\envs\\kex-env\\lib\\site-packages\\pandas\\core\\frame.py:4102\u001b[0m, in \u001b[0;36mDataFrame.__getitem__\u001b[1;34m(self, key)\u001b[0m\n\u001b[0;32m   4100\u001b[0m \u001b[38;5;28;01mif\u001b[39;00m \u001b[38;5;28mself\u001b[39m\u001b[38;5;241m.\u001b[39mcolumns\u001b[38;5;241m.\u001b[39mnlevels \u001b[38;5;241m>\u001b[39m \u001b[38;5;241m1\u001b[39m:\n\u001b[0;32m   4101\u001b[0m     \u001b[38;5;28;01mreturn\u001b[39;00m \u001b[38;5;28mself\u001b[39m\u001b[38;5;241m.\u001b[39m_getitem_multilevel(key)\n\u001b[1;32m-> 4102\u001b[0m indexer \u001b[38;5;241m=\u001b[39m \u001b[38;5;28;43mself\u001b[39;49m\u001b[38;5;241;43m.\u001b[39;49m\u001b[43mcolumns\u001b[49m\u001b[38;5;241;43m.\u001b[39;49m\u001b[43mget_loc\u001b[49m\u001b[43m(\u001b[49m\u001b[43mkey\u001b[49m\u001b[43m)\u001b[49m\n\u001b[0;32m   4103\u001b[0m \u001b[38;5;28;01mif\u001b[39;00m is_integer(indexer):\n\u001b[0;32m   4104\u001b[0m     indexer \u001b[38;5;241m=\u001b[39m [indexer]\n",
      "File \u001b[1;32mC:\\ProgramData\\anaconda3\\envs\\kex-env\\lib\\site-packages\\pandas\\core\\indexes\\base.py:3812\u001b[0m, in \u001b[0;36mIndex.get_loc\u001b[1;34m(self, key)\u001b[0m\n\u001b[0;32m   3807\u001b[0m     \u001b[38;5;28;01mif\u001b[39;00m \u001b[38;5;28misinstance\u001b[39m(casted_key, \u001b[38;5;28mslice\u001b[39m) \u001b[38;5;129;01mor\u001b[39;00m (\n\u001b[0;32m   3808\u001b[0m         \u001b[38;5;28misinstance\u001b[39m(casted_key, abc\u001b[38;5;241m.\u001b[39mIterable)\n\u001b[0;32m   3809\u001b[0m         \u001b[38;5;129;01mand\u001b[39;00m \u001b[38;5;28many\u001b[39m(\u001b[38;5;28misinstance\u001b[39m(x, \u001b[38;5;28mslice\u001b[39m) \u001b[38;5;28;01mfor\u001b[39;00m x \u001b[38;5;129;01min\u001b[39;00m casted_key)\n\u001b[0;32m   3810\u001b[0m     ):\n\u001b[0;32m   3811\u001b[0m         \u001b[38;5;28;01mraise\u001b[39;00m InvalidIndexError(key)\n\u001b[1;32m-> 3812\u001b[0m     \u001b[38;5;28;01mraise\u001b[39;00m \u001b[38;5;167;01mKeyError\u001b[39;00m(key) \u001b[38;5;28;01mfrom\u001b[39;00m \u001b[38;5;21;01merr\u001b[39;00m\n\u001b[0;32m   3813\u001b[0m \u001b[38;5;28;01mexcept\u001b[39;00m \u001b[38;5;167;01mTypeError\u001b[39;00m:\n\u001b[0;32m   3814\u001b[0m     \u001b[38;5;66;03m# If we have a listlike key, _check_indexing_error will raise\u001b[39;00m\n\u001b[0;32m   3815\u001b[0m     \u001b[38;5;66;03m#  InvalidIndexError. Otherwise we fall through and re-raise\u001b[39;00m\n\u001b[0;32m   3816\u001b[0m     \u001b[38;5;66;03m#  the TypeError.\u001b[39;00m\n\u001b[0;32m   3817\u001b[0m     \u001b[38;5;28mself\u001b[39m\u001b[38;5;241m.\u001b[39m_check_indexing_error(key)\n",
      "\u001b[1;31mKeyError\u001b[0m: 'mass_margins'"
     ]
    }
   ],
   "source": [
    "# fill in missing values using the backwards fill method\n",
    "mass_test['mass_margins'] = mass_test['mass_margins'].bfill()\n",
    "\n",
    "#check null values\n",
    "mass_test.isnull().sum()"
   ]
  },
  {
   "cell_type": "markdown",
   "metadata": {
    "_cell_guid": "86764ac3-2f54-498c-8d67-5e22db75f10a",
    "_uuid": "423ed2fc-34fa-4fba-97ee-79e3b390322a"
   },
   "source": [
    "# Visualizations"
   ]
  },
  {
   "cell_type": "code",
   "execution_count": null,
   "metadata": {
    "_cell_guid": "b8a80048-d18f-4307-b120-596f2b7f689c",
    "_uuid": "cc75f344-782e-44de-8042-e6fe12eabe21",
    "collapsed": false,
    "jupyter": {
     "outputs_hidden": false
    }
   },
   "outputs": [
    {
     "data": {
      "image/png": "[encoded data removed]",
      "text/plain": [
       "<Figure size 800x600 with 1 Axes>"
      ]
     },
     "metadata": {},
     "output_type": "display_data"
    }
   ],
   "source": [
    "# pathology distributions\n",
    "value = mass_train['label'].value_counts()\n",
    "plt.figure(figsize=(8,6))\n",
    "\n",
    "plt.pie(value, labels=value.index, autopct='%1.1f%%')\n",
    "plt.title('Breast Cancer Mass Types', fontsize=14)\n",
    "plt.savefig('/Code/KEX-Job/Breast-Cancer-Detection-Mammogram-Deep-Learning/OUR_STUFF/Figures/pathology_distributions_red.png')\n",
    "plt.show()"
   ]
  },
  {
   "cell_type": "code",
   "execution_count": null,
   "metadata": {
    "_cell_guid": "7b39bf25-d86d-4650-8c11-6d8038fd946a",
    "_uuid": "499a881d-f802-469e-80dd-ea3169d8879a",
    "collapsed": false,
    "jupyter": {
     "outputs_hidden": false
    }
   },
   "outputs": [
    {
     "ename": "ValueError",
     "evalue": "Could not interpret value `breast_density` for `x`. An entry with this name does not appear in `data`.",
     "output_type": "error",
     "traceback": [
      "\u001b[1;31m---------------------------------------------------------------------------\u001b[0m",
      "\u001b[1;31mValueError\u001b[0m                                Traceback (most recent call last)",
      "Cell \u001b[1;32mIn[22], line 4\u001b[0m\n\u001b[0;32m      1\u001b[0m \u001b[38;5;66;03m# breast density against pathology\u001b[39;00m\n\u001b[0;32m      2\u001b[0m plt\u001b[38;5;241m.\u001b[39mfigure(figsize\u001b[38;5;241m=\u001b[39m(\u001b[38;5;241m8\u001b[39m,\u001b[38;5;241m6\u001b[39m))\n\u001b[1;32m----> 4\u001b[0m \u001b[43msns\u001b[49m\u001b[38;5;241;43m.\u001b[39;49m\u001b[43mcountplot\u001b[49m\u001b[43m(\u001b[49m\u001b[43mmass_train\u001b[49m\u001b[43m,\u001b[49m\u001b[43m \u001b[49m\u001b[43mx\u001b[49m\u001b[38;5;241;43m=\u001b[39;49m\u001b[38;5;124;43m'\u001b[39;49m\u001b[38;5;124;43mbreast_density\u001b[39;49m\u001b[38;5;124;43m'\u001b[39;49m\u001b[43m,\u001b[49m\u001b[43m \u001b[49m\u001b[43mhue\u001b[49m\u001b[38;5;241;43m=\u001b[39;49m\u001b[38;5;124;43m'\u001b[39;49m\u001b[38;5;124;43mpathology\u001b[39;49m\u001b[38;5;124;43m'\u001b[39;49m\u001b[43m)\u001b[49m\n\u001b[0;32m      5\u001b[0m plt\u001b[38;5;241m.\u001b[39mtitle(\u001b[38;5;124m'\u001b[39m\u001b[38;5;124mBreast Density vs Pathology\u001b[39m\u001b[38;5;130;01m\\n\u001b[39;00m\u001b[38;5;130;01m\\n\u001b[39;00m\u001b[38;5;124m1: fatty || 2: Scattered Fibroglandular Density\u001b[39m\u001b[38;5;130;01m\\n\u001b[39;00m\u001b[38;5;124m3: Heterogenously Dense || 4: Extremely Dense\u001b[39m\u001b[38;5;124m'\u001b[39m,\n\u001b[0;32m      6\u001b[0m           fontsize\u001b[38;5;241m=\u001b[39m\u001b[38;5;241m14\u001b[39m)\n\u001b[0;32m      7\u001b[0m plt\u001b[38;5;241m.\u001b[39mxlabel(\u001b[38;5;124m'\u001b[39m\u001b[38;5;124mDensity Grades\u001b[39m\u001b[38;5;124m'\u001b[39m)\n",
      "File \u001b[1;32mC:\\ProgramData\\anaconda3\\envs\\kex-env\\lib\\site-packages\\seaborn\\categorical.py:2631\u001b[0m, in \u001b[0;36mcountplot\u001b[1;34m(data, x, y, hue, order, hue_order, orient, color, palette, saturation, fill, hue_norm, stat, width, dodge, gap, log_scale, native_scale, formatter, legend, ax, **kwargs)\u001b[0m\n\u001b[0;32m   2628\u001b[0m \u001b[38;5;28;01melif\u001b[39;00m x \u001b[38;5;129;01mis\u001b[39;00m \u001b[38;5;129;01mnot\u001b[39;00m \u001b[38;5;28;01mNone\u001b[39;00m \u001b[38;5;129;01mand\u001b[39;00m y \u001b[38;5;129;01mis\u001b[39;00m \u001b[38;5;129;01mnot\u001b[39;00m \u001b[38;5;28;01mNone\u001b[39;00m:\n\u001b[0;32m   2629\u001b[0m     \u001b[38;5;28;01mraise\u001b[39;00m \u001b[38;5;167;01mTypeError\u001b[39;00m(\u001b[38;5;124m\"\u001b[39m\u001b[38;5;124mCannot pass values for both `x` and `y`.\u001b[39m\u001b[38;5;124m\"\u001b[39m)\n\u001b[1;32m-> 2631\u001b[0m p \u001b[38;5;241m=\u001b[39m \u001b[43m_CategoricalAggPlotter\u001b[49m\u001b[43m(\u001b[49m\n\u001b[0;32m   2632\u001b[0m \u001b[43m    \u001b[49m\u001b[43mdata\u001b[49m\u001b[38;5;241;43m=\u001b[39;49m\u001b[43mdata\u001b[49m\u001b[43m,\u001b[49m\n\u001b[0;32m   2633\u001b[0m \u001b[43m    \u001b[49m\u001b[43mvariables\u001b[49m\u001b[38;5;241;43m=\u001b[39;49m\u001b[38;5;28;43mdict\u001b[39;49m\u001b[43m(\u001b[49m\u001b[43mx\u001b[49m\u001b[38;5;241;43m=\u001b[39;49m\u001b[43mx\u001b[49m\u001b[43m,\u001b[49m\u001b[43m \u001b[49m\u001b[43my\u001b[49m\u001b[38;5;241;43m=\u001b[39;49m\u001b[43my\u001b[49m\u001b[43m,\u001b[49m\u001b[43m \u001b[49m\u001b[43mhue\u001b[49m\u001b[38;5;241;43m=\u001b[39;49m\u001b[43mhue\u001b[49m\u001b[43m)\u001b[49m\u001b[43m,\u001b[49m\n\u001b[0;32m   2634\u001b[0m \u001b[43m    \u001b[49m\u001b[43morder\u001b[49m\u001b[38;5;241;43m=\u001b[39;49m\u001b[43morder\u001b[49m\u001b[43m,\u001b[49m\n\u001b[0;32m   2635\u001b[0m \u001b[43m    \u001b[49m\u001b[43morient\u001b[49m\u001b[38;5;241;43m=\u001b[39;49m\u001b[43morient\u001b[49m\u001b[43m,\u001b[49m\n\u001b[0;32m   2636\u001b[0m \u001b[43m    \u001b[49m\u001b[43mcolor\u001b[49m\u001b[38;5;241;43m=\u001b[39;49m\u001b[43mcolor\u001b[49m\u001b[43m,\u001b[49m\n\u001b[0;32m   2637\u001b[0m \u001b[43m    \u001b[49m\u001b[43mlegend\u001b[49m\u001b[38;5;241;43m=\u001b[39;49m\u001b[43mlegend\u001b[49m\u001b[43m,\u001b[49m\n\u001b[0;32m   2638\u001b[0m \u001b[43m\u001b[49m\u001b[43m)\u001b[49m\n\u001b[0;32m   2640\u001b[0m \u001b[38;5;28;01mif\u001b[39;00m ax \u001b[38;5;129;01mis\u001b[39;00m \u001b[38;5;28;01mNone\u001b[39;00m:\n\u001b[0;32m   2641\u001b[0m     ax \u001b[38;5;241m=\u001b[39m plt\u001b[38;5;241m.\u001b[39mgca()\n",
      "File \u001b[1;32mC:\\ProgramData\\anaconda3\\envs\\kex-env\\lib\\site-packages\\seaborn\\categorical.py:67\u001b[0m, in \u001b[0;36m_CategoricalPlotter.__init__\u001b[1;34m(self, data, variables, order, orient, require_numeric, color, legend)\u001b[0m\n\u001b[0;32m     56\u001b[0m \u001b[38;5;28;01mdef\u001b[39;00m \u001b[38;5;21m__init__\u001b[39m(\n\u001b[0;32m     57\u001b[0m     \u001b[38;5;28mself\u001b[39m,\n\u001b[0;32m     58\u001b[0m     data\u001b[38;5;241m=\u001b[39m\u001b[38;5;28;01mNone\u001b[39;00m,\n\u001b[1;32m   (...)\u001b[0m\n\u001b[0;32m     64\u001b[0m     legend\u001b[38;5;241m=\u001b[39m\u001b[38;5;124m\"\u001b[39m\u001b[38;5;124mauto\u001b[39m\u001b[38;5;124m\"\u001b[39m,\n\u001b[0;32m     65\u001b[0m ):\n\u001b[1;32m---> 67\u001b[0m     \u001b[38;5;28;43msuper\u001b[39;49m\u001b[43m(\u001b[49m\u001b[43m)\u001b[49m\u001b[38;5;241;43m.\u001b[39;49m\u001b[38;5;21;43m__init__\u001b[39;49m\u001b[43m(\u001b[49m\u001b[43mdata\u001b[49m\u001b[38;5;241;43m=\u001b[39;49m\u001b[43mdata\u001b[49m\u001b[43m,\u001b[49m\u001b[43m \u001b[49m\u001b[43mvariables\u001b[49m\u001b[38;5;241;43m=\u001b[39;49m\u001b[43mvariables\u001b[49m\u001b[43m)\u001b[49m\n\u001b[0;32m     69\u001b[0m     \u001b[38;5;66;03m# This method takes care of some bookkeeping that is necessary because the\u001b[39;00m\n\u001b[0;32m     70\u001b[0m     \u001b[38;5;66;03m# original categorical plots (prior to the 2021 refactor) had some rules that\u001b[39;00m\n\u001b[0;32m     71\u001b[0m     \u001b[38;5;66;03m# don't fit exactly into VectorPlotter logic. It may be wise to have a second\u001b[39;00m\n\u001b[1;32m   (...)\u001b[0m\n\u001b[0;32m     76\u001b[0m     \u001b[38;5;66;03m# default VectorPlotter rules. If we do decide to make orient part of the\u001b[39;00m\n\u001b[0;32m     77\u001b[0m     \u001b[38;5;66;03m# _base variable assignment, we'll want to figure out how to express that.\u001b[39;00m\n\u001b[0;32m     78\u001b[0m     \u001b[38;5;28;01mif\u001b[39;00m \u001b[38;5;28mself\u001b[39m\u001b[38;5;241m.\u001b[39minput_format \u001b[38;5;241m==\u001b[39m \u001b[38;5;124m\"\u001b[39m\u001b[38;5;124mwide\u001b[39m\u001b[38;5;124m\"\u001b[39m \u001b[38;5;129;01mand\u001b[39;00m orient \u001b[38;5;129;01min\u001b[39;00m [\u001b[38;5;124m\"\u001b[39m\u001b[38;5;124mh\u001b[39m\u001b[38;5;124m\"\u001b[39m, \u001b[38;5;124m\"\u001b[39m\u001b[38;5;124my\u001b[39m\u001b[38;5;124m\"\u001b[39m]:\n",
      "File \u001b[1;32mC:\\ProgramData\\anaconda3\\envs\\kex-env\\lib\\site-packages\\seaborn\\_base.py:634\u001b[0m, in \u001b[0;36mVectorPlotter.__init__\u001b[1;34m(self, data, variables)\u001b[0m\n\u001b[0;32m    629\u001b[0m \u001b[38;5;66;03m# var_ordered is relevant only for categorical axis variables, and may\u001b[39;00m\n\u001b[0;32m    630\u001b[0m \u001b[38;5;66;03m# be better handled by an internal axis information object that tracks\u001b[39;00m\n\u001b[0;32m    631\u001b[0m \u001b[38;5;66;03m# such information and is set up by the scale_* methods. The analogous\u001b[39;00m\n\u001b[0;32m    632\u001b[0m \u001b[38;5;66;03m# information for numeric axes would be information about log scales.\u001b[39;00m\n\u001b[0;32m    633\u001b[0m \u001b[38;5;28mself\u001b[39m\u001b[38;5;241m.\u001b[39m_var_ordered \u001b[38;5;241m=\u001b[39m {\u001b[38;5;124m\"\u001b[39m\u001b[38;5;124mx\u001b[39m\u001b[38;5;124m\"\u001b[39m: \u001b[38;5;28;01mFalse\u001b[39;00m, \u001b[38;5;124m\"\u001b[39m\u001b[38;5;124my\u001b[39m\u001b[38;5;124m\"\u001b[39m: \u001b[38;5;28;01mFalse\u001b[39;00m}  \u001b[38;5;66;03m# alt., used DefaultDict\u001b[39;00m\n\u001b[1;32m--> 634\u001b[0m \u001b[38;5;28;43mself\u001b[39;49m\u001b[38;5;241;43m.\u001b[39;49m\u001b[43massign_variables\u001b[49m\u001b[43m(\u001b[49m\u001b[43mdata\u001b[49m\u001b[43m,\u001b[49m\u001b[43m \u001b[49m\u001b[43mvariables\u001b[49m\u001b[43m)\u001b[49m\n\u001b[0;32m    636\u001b[0m \u001b[38;5;66;03m# TODO Lots of tests assume that these are called to initialize the\u001b[39;00m\n\u001b[0;32m    637\u001b[0m \u001b[38;5;66;03m# mappings to default values on class initialization. I'd prefer to\u001b[39;00m\n\u001b[0;32m    638\u001b[0m \u001b[38;5;66;03m# move away from that and only have a mapping when explicitly called.\u001b[39;00m\n\u001b[0;32m    639\u001b[0m \u001b[38;5;28;01mfor\u001b[39;00m var \u001b[38;5;129;01min\u001b[39;00m [\u001b[38;5;124m\"\u001b[39m\u001b[38;5;124mhue\u001b[39m\u001b[38;5;124m\"\u001b[39m, \u001b[38;5;124m\"\u001b[39m\u001b[38;5;124msize\u001b[39m\u001b[38;5;124m\"\u001b[39m, \u001b[38;5;124m\"\u001b[39m\u001b[38;5;124mstyle\u001b[39m\u001b[38;5;124m\"\u001b[39m]:\n",
      "File \u001b[1;32mC:\\ProgramData\\anaconda3\\envs\\kex-env\\lib\\site-packages\\seaborn\\_base.py:679\u001b[0m, in \u001b[0;36mVectorPlotter.assign_variables\u001b[1;34m(self, data, variables)\u001b[0m\n\u001b[0;32m    674\u001b[0m \u001b[38;5;28;01melse\u001b[39;00m:\n\u001b[0;32m    675\u001b[0m     \u001b[38;5;66;03m# When dealing with long-form input, use the newer PlotData\u001b[39;00m\n\u001b[0;32m    676\u001b[0m     \u001b[38;5;66;03m# object (internal but introduced for the objects interface)\u001b[39;00m\n\u001b[0;32m    677\u001b[0m     \u001b[38;5;66;03m# to centralize / standardize data consumption logic.\u001b[39;00m\n\u001b[0;32m    678\u001b[0m     \u001b[38;5;28mself\u001b[39m\u001b[38;5;241m.\u001b[39minput_format \u001b[38;5;241m=\u001b[39m \u001b[38;5;124m\"\u001b[39m\u001b[38;5;124mlong\u001b[39m\u001b[38;5;124m\"\u001b[39m\n\u001b[1;32m--> 679\u001b[0m     plot_data \u001b[38;5;241m=\u001b[39m \u001b[43mPlotData\u001b[49m\u001b[43m(\u001b[49m\u001b[43mdata\u001b[49m\u001b[43m,\u001b[49m\u001b[43m \u001b[49m\u001b[43mvariables\u001b[49m\u001b[43m)\u001b[49m\n\u001b[0;32m    680\u001b[0m     frame \u001b[38;5;241m=\u001b[39m plot_data\u001b[38;5;241m.\u001b[39mframe\n\u001b[0;32m    681\u001b[0m     names \u001b[38;5;241m=\u001b[39m plot_data\u001b[38;5;241m.\u001b[39mnames\n",
      "File \u001b[1;32mC:\\ProgramData\\anaconda3\\envs\\kex-env\\lib\\site-packages\\seaborn\\_core\\data.py:58\u001b[0m, in \u001b[0;36mPlotData.__init__\u001b[1;34m(self, data, variables)\u001b[0m\n\u001b[0;32m     51\u001b[0m \u001b[38;5;28;01mdef\u001b[39;00m \u001b[38;5;21m__init__\u001b[39m(\n\u001b[0;32m     52\u001b[0m     \u001b[38;5;28mself\u001b[39m,\n\u001b[0;32m     53\u001b[0m     data: DataSource,\n\u001b[0;32m     54\u001b[0m     variables: \u001b[38;5;28mdict\u001b[39m[\u001b[38;5;28mstr\u001b[39m, VariableSpec],\n\u001b[0;32m     55\u001b[0m ):\n\u001b[0;32m     57\u001b[0m     data \u001b[38;5;241m=\u001b[39m handle_data_source(data)\n\u001b[1;32m---> 58\u001b[0m     frame, names, ids \u001b[38;5;241m=\u001b[39m \u001b[38;5;28;43mself\u001b[39;49m\u001b[38;5;241;43m.\u001b[39;49m\u001b[43m_assign_variables\u001b[49m\u001b[43m(\u001b[49m\u001b[43mdata\u001b[49m\u001b[43m,\u001b[49m\u001b[43m \u001b[49m\u001b[43mvariables\u001b[49m\u001b[43m)\u001b[49m\n\u001b[0;32m     60\u001b[0m     \u001b[38;5;28mself\u001b[39m\u001b[38;5;241m.\u001b[39mframe \u001b[38;5;241m=\u001b[39m frame\n\u001b[0;32m     61\u001b[0m     \u001b[38;5;28mself\u001b[39m\u001b[38;5;241m.\u001b[39mnames \u001b[38;5;241m=\u001b[39m names\n",
      "File \u001b[1;32mC:\\ProgramData\\anaconda3\\envs\\kex-env\\lib\\site-packages\\seaborn\\_core\\data.py:232\u001b[0m, in \u001b[0;36mPlotData._assign_variables\u001b[1;34m(self, data, variables)\u001b[0m\n\u001b[0;32m    230\u001b[0m     \u001b[38;5;28;01melse\u001b[39;00m:\n\u001b[0;32m    231\u001b[0m         err \u001b[38;5;241m+\u001b[39m\u001b[38;5;241m=\u001b[39m \u001b[38;5;124m\"\u001b[39m\u001b[38;5;124mAn entry with this name does not appear in `data`.\u001b[39m\u001b[38;5;124m\"\u001b[39m\n\u001b[1;32m--> 232\u001b[0m     \u001b[38;5;28;01mraise\u001b[39;00m \u001b[38;5;167;01mValueError\u001b[39;00m(err)\n\u001b[0;32m    234\u001b[0m \u001b[38;5;28;01melse\u001b[39;00m:\n\u001b[0;32m    235\u001b[0m \n\u001b[0;32m    236\u001b[0m     \u001b[38;5;66;03m# Otherwise, assume the value somehow represents data\u001b[39;00m\n\u001b[0;32m    237\u001b[0m \n\u001b[0;32m    238\u001b[0m     \u001b[38;5;66;03m# Ignore empty data structures\u001b[39;00m\n\u001b[0;32m    239\u001b[0m     \u001b[38;5;28;01mif\u001b[39;00m \u001b[38;5;28misinstance\u001b[39m(val, Sized) \u001b[38;5;129;01mand\u001b[39;00m \u001b[38;5;28mlen\u001b[39m(val) \u001b[38;5;241m==\u001b[39m \u001b[38;5;241m0\u001b[39m:\n",
      "\u001b[1;31mValueError\u001b[0m: Could not interpret value `breast_density` for `x`. An entry with this name does not appear in `data`."
     ]
    },
    {
     "data": {
      "text/plain": [
       "<Figure size 800x600 with 0 Axes>"
      ]
     },
     "metadata": {},
     "output_type": "display_data"
    }
   ],
   "source": [
    "# breast density against pathology\n",
    "plt.figure(figsize=(8,6))\n",
    "\n",
    "sns.countplot(mass_train, x='breast_density', hue='pathology')\n",
    "plt.title('Breast Density vs Pathology\\n\\n1: fatty || 2: Scattered Fibroglandular Density\\n3: Heterogenously Dense || 4: Extremely Dense',\n",
    "          fontsize=14)\n",
    "plt.xlabel('Density Grades')\n",
    "plt.ylabel('Count')\n",
    "plt.legend()\n",
    "plt.savefig('/Code/KEX-Job/Breast-Cancer-Detection-Mammogram-Deep-Learning/OUR_STUFF/Figures/density_pathology_red.png')\n",
    "plt.show()"
   ]
  },
  {
   "cell_type": "code",
   "execution_count": null,
   "metadata": {
    "_cell_guid": "0cea769e-7008-4bd2-8c9c-fe044d3a64c0",
    "_uuid": "18af08e5-a4e6-4fb0-b23e-bdfdd55433b4",
    "collapsed": false,
    "jupyter": {
     "outputs_hidden": false
    }
   },
   "outputs": [
    {
     "name": "stdout",
     "output_type": "stream",
     "text": [
      "Full Mammograms:\n",
      "\n"
     ]
    },
    {
     "ename": "KeyError",
     "evalue": "'image_file_path'",
     "output_type": "error",
     "traceback": [
      "\u001b[1;31m---------------------------------------------------------------------------\u001b[0m",
      "\u001b[1;31mKeyError\u001b[0m                                  Traceback (most recent call last)",
      "File \u001b[1;32mC:\\ProgramData\\anaconda3\\envs\\kex-env\\lib\\site-packages\\pandas\\core\\indexes\\base.py:3805\u001b[0m, in \u001b[0;36mIndex.get_loc\u001b[1;34m(self, key)\u001b[0m\n\u001b[0;32m   3804\u001b[0m \u001b[38;5;28;01mtry\u001b[39;00m:\n\u001b[1;32m-> 3805\u001b[0m     \u001b[38;5;28;01mreturn\u001b[39;00m \u001b[38;5;28;43mself\u001b[39;49m\u001b[38;5;241;43m.\u001b[39;49m\u001b[43m_engine\u001b[49m\u001b[38;5;241;43m.\u001b[39;49m\u001b[43mget_loc\u001b[49m\u001b[43m(\u001b[49m\u001b[43mcasted_key\u001b[49m\u001b[43m)\u001b[49m\n\u001b[0;32m   3806\u001b[0m \u001b[38;5;28;01mexcept\u001b[39;00m \u001b[38;5;167;01mKeyError\u001b[39;00m \u001b[38;5;28;01mas\u001b[39;00m err:\n",
      "File \u001b[1;32mindex.pyx:167\u001b[0m, in \u001b[0;36mpandas._libs.index.IndexEngine.get_loc\u001b[1;34m()\u001b[0m\n",
      "File \u001b[1;32mindex.pyx:196\u001b[0m, in \u001b[0;36mpandas._libs.index.IndexEngine.get_loc\u001b[1;34m()\u001b[0m\n",
      "File \u001b[1;32mpandas\\\\_libs\\\\hashtable_class_helper.pxi:7081\u001b[0m, in \u001b[0;36mpandas._libs.hashtable.PyObjectHashTable.get_item\u001b[1;34m()\u001b[0m\n",
      "File \u001b[1;32mpandas\\\\_libs\\\\hashtable_class_helper.pxi:7089\u001b[0m, in \u001b[0;36mpandas._libs.hashtable.PyObjectHashTable.get_item\u001b[1;34m()\u001b[0m\n",
      "\u001b[1;31mKeyError\u001b[0m: 'image_file_path'",
      "\nThe above exception was the direct cause of the following exception:\n",
      "\u001b[1;31mKeyError\u001b[0m                                  Traceback (most recent call last)",
      "Cell \u001b[1;32mIn[23], line 24\u001b[0m\n\u001b[0;32m     21\u001b[0m     plt\u001b[38;5;241m.\u001b[39mshow()\n\u001b[0;32m     23\u001b[0m \u001b[38;5;28mprint\u001b[39m(\u001b[38;5;124m'\u001b[39m\u001b[38;5;124mFull Mammograms:\u001b[39m\u001b[38;5;130;01m\\n\u001b[39;00m\u001b[38;5;124m'\u001b[39m)\n\u001b[1;32m---> 24\u001b[0m \u001b[43mdisplay_images\u001b[49m\u001b[43m(\u001b[49m\u001b[38;5;124;43m'\u001b[39;49m\u001b[38;5;124;43mimage_file_path\u001b[39;49m\u001b[38;5;124;43m'\u001b[39;49m\u001b[43m,\u001b[49m\u001b[43m \u001b[49m\u001b[38;5;241;43m5\u001b[39;49m\u001b[43m)\u001b[49m\n\u001b[0;32m     25\u001b[0m \u001b[38;5;28mprint\u001b[39m(\u001b[38;5;124m'\u001b[39m\u001b[38;5;124mCropped Mammograms:\u001b[39m\u001b[38;5;130;01m\\n\u001b[39;00m\u001b[38;5;124m'\u001b[39m)\n\u001b[0;32m     26\u001b[0m display_images(\u001b[38;5;124m'\u001b[39m\u001b[38;5;124mcropped_image_file_path\u001b[39m\u001b[38;5;124m'\u001b[39m, \u001b[38;5;241m5\u001b[39m)\n",
      "Cell \u001b[1;32mIn[23], line 14\u001b[0m, in \u001b[0;36mdisplay_images\u001b[1;34m(column, number)\u001b[0m\n\u001b[0;32m     12\u001b[0m \u001b[38;5;66;03m# Loop through rows and display images\u001b[39;00m\n\u001b[0;32m     13\u001b[0m \u001b[38;5;28;01mfor\u001b[39;00m index, row \u001b[38;5;129;01min\u001b[39;00m mass_train\u001b[38;5;241m.\u001b[39mhead(number_to_visualize)\u001b[38;5;241m.\u001b[39miterrows():\n\u001b[1;32m---> 14\u001b[0m     image_path \u001b[38;5;241m=\u001b[39m \u001b[43mrow\u001b[49m\u001b[43m[\u001b[49m\u001b[43mcolumn\u001b[49m\u001b[43m]\u001b[49m\n\u001b[0;32m     15\u001b[0m     image \u001b[38;5;241m=\u001b[39m mpimg\u001b[38;5;241m.\u001b[39mimread(image_path)\n\u001b[0;32m     16\u001b[0m     ax \u001b[38;5;241m=\u001b[39m axes[index]\n",
      "File \u001b[1;32mC:\\ProgramData\\anaconda3\\envs\\kex-env\\lib\\site-packages\\pandas\\core\\series.py:1121\u001b[0m, in \u001b[0;36mSeries.__getitem__\u001b[1;34m(self, key)\u001b[0m\n\u001b[0;32m   1118\u001b[0m     \u001b[38;5;28;01mreturn\u001b[39;00m \u001b[38;5;28mself\u001b[39m\u001b[38;5;241m.\u001b[39m_values[key]\n\u001b[0;32m   1120\u001b[0m \u001b[38;5;28;01melif\u001b[39;00m key_is_scalar:\n\u001b[1;32m-> 1121\u001b[0m     \u001b[38;5;28;01mreturn\u001b[39;00m \u001b[38;5;28;43mself\u001b[39;49m\u001b[38;5;241;43m.\u001b[39;49m\u001b[43m_get_value\u001b[49m\u001b[43m(\u001b[49m\u001b[43mkey\u001b[49m\u001b[43m)\u001b[49m\n\u001b[0;32m   1123\u001b[0m \u001b[38;5;66;03m# Convert generator to list before going through hashable part\u001b[39;00m\n\u001b[0;32m   1124\u001b[0m \u001b[38;5;66;03m# (We will iterate through the generator there to check for slices)\u001b[39;00m\n\u001b[0;32m   1125\u001b[0m \u001b[38;5;28;01mif\u001b[39;00m is_iterator(key):\n",
      "File \u001b[1;32mC:\\ProgramData\\anaconda3\\envs\\kex-env\\lib\\site-packages\\pandas\\core\\series.py:1237\u001b[0m, in \u001b[0;36mSeries._get_value\u001b[1;34m(self, label, takeable)\u001b[0m\n\u001b[0;32m   1234\u001b[0m     \u001b[38;5;28;01mreturn\u001b[39;00m \u001b[38;5;28mself\u001b[39m\u001b[38;5;241m.\u001b[39m_values[label]\n\u001b[0;32m   1236\u001b[0m \u001b[38;5;66;03m# Similar to Index.get_value, but we do not fall back to positional\u001b[39;00m\n\u001b[1;32m-> 1237\u001b[0m loc \u001b[38;5;241m=\u001b[39m \u001b[38;5;28;43mself\u001b[39;49m\u001b[38;5;241;43m.\u001b[39;49m\u001b[43mindex\u001b[49m\u001b[38;5;241;43m.\u001b[39;49m\u001b[43mget_loc\u001b[49m\u001b[43m(\u001b[49m\u001b[43mlabel\u001b[49m\u001b[43m)\u001b[49m\n\u001b[0;32m   1239\u001b[0m \u001b[38;5;28;01mif\u001b[39;00m is_integer(loc):\n\u001b[0;32m   1240\u001b[0m     \u001b[38;5;28;01mreturn\u001b[39;00m \u001b[38;5;28mself\u001b[39m\u001b[38;5;241m.\u001b[39m_values[loc]\n",
      "File \u001b[1;32mC:\\ProgramData\\anaconda3\\envs\\kex-env\\lib\\site-packages\\pandas\\core\\indexes\\base.py:3812\u001b[0m, in \u001b[0;36mIndex.get_loc\u001b[1;34m(self, key)\u001b[0m\n\u001b[0;32m   3807\u001b[0m     \u001b[38;5;28;01mif\u001b[39;00m \u001b[38;5;28misinstance\u001b[39m(casted_key, \u001b[38;5;28mslice\u001b[39m) \u001b[38;5;129;01mor\u001b[39;00m (\n\u001b[0;32m   3808\u001b[0m         \u001b[38;5;28misinstance\u001b[39m(casted_key, abc\u001b[38;5;241m.\u001b[39mIterable)\n\u001b[0;32m   3809\u001b[0m         \u001b[38;5;129;01mand\u001b[39;00m \u001b[38;5;28many\u001b[39m(\u001b[38;5;28misinstance\u001b[39m(x, \u001b[38;5;28mslice\u001b[39m) \u001b[38;5;28;01mfor\u001b[39;00m x \u001b[38;5;129;01min\u001b[39;00m casted_key)\n\u001b[0;32m   3810\u001b[0m     ):\n\u001b[0;32m   3811\u001b[0m         \u001b[38;5;28;01mraise\u001b[39;00m InvalidIndexError(key)\n\u001b[1;32m-> 3812\u001b[0m     \u001b[38;5;28;01mraise\u001b[39;00m \u001b[38;5;167;01mKeyError\u001b[39;00m(key) \u001b[38;5;28;01mfrom\u001b[39;00m \u001b[38;5;21;01merr\u001b[39;00m\n\u001b[0;32m   3813\u001b[0m \u001b[38;5;28;01mexcept\u001b[39;00m \u001b[38;5;167;01mTypeError\u001b[39;00m:\n\u001b[0;32m   3814\u001b[0m     \u001b[38;5;66;03m# If we have a listlike key, _check_indexing_error will raise\u001b[39;00m\n\u001b[0;32m   3815\u001b[0m     \u001b[38;5;66;03m#  InvalidIndexError. Otherwise we fall through and re-raise\u001b[39;00m\n\u001b[0;32m   3816\u001b[0m     \u001b[38;5;66;03m#  the TypeError.\u001b[39;00m\n\u001b[0;32m   3817\u001b[0m     \u001b[38;5;28mself\u001b[39m\u001b[38;5;241m.\u001b[39m_check_indexing_error(key)\n",
      "\u001b[1;31mKeyError\u001b[0m: 'image_file_path'"
     ]
    },
    {
     "data": {
      "image/png": "[encoded data removed]",
      "text/plain": [
       "<Figure size 1500x500 with 5 Axes>"
      ]
     },
     "metadata": {},
     "output_type": "display_data"
    }
   ],
   "source": [
    "# Display some images\n",
    "import matplotlib.image as mpimg\n",
    "\n",
    "# create function to display images\n",
    "def display_images(column, number):\n",
    "    # create figure and axes\n",
    "    number_to_visualize = number\n",
    "    rows = 1\n",
    "    cols = number_to_visualize\n",
    "    fig, axes = plt.subplots(rows, cols, figsize=(15, 5))\n",
    "    \n",
    "    # Loop through rows and display images\n",
    "    for index, row in mass_train.head(number_to_visualize).iterrows():\n",
    "        image_path = row[column]\n",
    "        image = mpimg.imread(image_path)\n",
    "        ax = axes[index]\n",
    "        ax.imshow(image, cmap='gray')\n",
    "        ax.set_title(f\"{row['pathology']}\")\n",
    "        ax.axis('off')\n",
    "    plt.tight_layout()\n",
    "    plt.show()\n",
    "\n",
    "print('Full Mammograms:\\n')\n",
    "display_images('image_file_path', 5)\n",
    "print('Cropped Mammograms:\\n')\n",
    "display_images('cropped_image_file_path', 5)"
   ]
  },
  {
   "cell_type": "markdown",
   "metadata": {},
   "source": [
    "# Handle Categorical Data"
   ]
  },
  {
   "cell_type": "markdown",
   "metadata": {},
   "source": [
    "## One Hot Encode"
   ]
  },
  {
   "cell_type": "code",
   "execution_count": 16,
   "metadata": {},
   "outputs": [
    {
     "name": "stderr",
     "output_type": "stream",
     "text": [
      "C:\\Users\\ciwan\\AppData\\Local\\Temp\\ipykernel_22084\\3386162704.py:16: FutureWarning: Downcasting behavior in `replace` is deprecated and will be removed in a future version. To retain the old behavior, explicitly call `result.infer_objects(copy=False)`. To opt-in to the future behavior, set `pd.set_option('future.no_silent_downcasting', True)`\n",
      "  full_mass['labels'] = full_mass['label'].replace(class_mapper)\n"
     ]
    },
    {
     "data": {
      "text/plain": [
       "' ohe_data = categorical_transformer.fit_transform(full_mass[[\\n    \"image_view\", \\n    \"left_or_right_breast\", \\n    \"mass_shape\",\\n    \"mass_margins\"\\n]])\\n\\nfull_mass_onehot = pd.merge(full_mass, ohe_data, left_index=True, right_index=True)\\n\\nprint(full_mass_onehot.shape)\\n\\n# Check the number of classes\\nnum_classes = len(full_mass_onehot[\\'labels\\'].unique()) '"
      ]
     },
     "execution_count": 16,
     "metadata": {},
     "output_type": "execute_result"
    }
   ],
   "source": [
    "from sklearn.compose import ColumnTransformer\n",
    "from sklearn.preprocessing import OneHotEncoder\n",
    "from sklearn.impute import SimpleImputer\n",
    "from sklearn.pipeline import Pipeline\n",
    "\n",
    "# Merge datasets\n",
    "full_mass = pd.concat([mass_train, mass_test], axis=0)\n",
    "\n",
    "# Create a binary mapper\n",
    "class_mapper = {\n",
    "    'MALIGNANT': np.float32(1), \n",
    "    'BENIGN': np.float32(0), \n",
    "    'BENIGN_WITHOUT_CALLBACK': np.float32(0)} \n",
    "\n",
    "# Apply class mapper to pathology column\n",
    "full_mass['labels'] = full_mass['label'].replace(class_mapper)\n",
    "\n",
    "# One Hot Encode\n",
    "categorical_transformer = Pipeline(steps=[\n",
    "    ('imputer', SimpleImputer(strategy='constant', fill_value='missing')),\n",
    "    ('encoder', OneHotEncoder(handle_unknown='ignore', sparse_output=False).set_output(transform=\"pandas\"))\n",
    "])\n",
    "\n",
    "\"\"\" ohe_data = categorical_transformer.fit_transform(full_mass[[\n",
    "    \"image_view\", \n",
    "    \"left_or_right_breast\", \n",
    "    \"mass_shape\",\n",
    "    \"mass_margins\"\n",
    "]])\n",
    "\n",
    "full_mass_onehot = pd.merge(full_mass, ohe_data, left_index=True, right_index=True)\n",
    "\n",
    "print(full_mass_onehot.shape)\n",
    "\n",
    "# Check the number of classes\n",
    "num_classes = len(full_mass_onehot['labels'].unique()) \"\"\""
   ]
  },
  {
   "cell_type": "markdown",
   "metadata": {},
   "source": [
    "## Create Subsets"
   ]
  },
  {
   "cell_type": "code",
   "execution_count": 17,
   "metadata": {},
   "outputs": [
    {
     "ename": "NameError",
     "evalue": "name 'full_mass_onehot' is not defined",
     "output_type": "error",
     "traceback": [
      "\u001b[1;31m---------------------------------------------------------------------------\u001b[0m",
      "\u001b[1;31mNameError\u001b[0m                                 Traceback (most recent call last)",
      "Cell \u001b[1;32mIn[17], line 16\u001b[0m\n\u001b[0;32m     13\u001b[0m         counter \u001b[38;5;241m+\u001b[39m\u001b[38;5;241m=\u001b[39m \u001b[38;5;241m1\u001b[39m\n\u001b[0;32m     14\u001b[0m     \u001b[38;5;28;01mreturn\u001b[39;00m oh_cols, counter\n\u001b[1;32m---> 16\u001b[0m class_1_cols, counter \u001b[38;5;241m=\u001b[39m \u001b[43moh_col_list\u001b[49m\u001b[43m(\u001b[49m\u001b[43mclass_1\u001b[49m\u001b[43m,\u001b[49m\u001b[43m \u001b[49m\u001b[38;5;241;43m0\u001b[39;49m\u001b[43m)\u001b[49m\n\u001b[0;32m     17\u001b[0m class_2_cols, _ \u001b[38;5;241m=\u001b[39m oh_col_list(class_2, counter)\n\u001b[0;32m     18\u001b[0m class_3_cols, _ \u001b[38;5;241m=\u001b[39m oh_col_list(class_1 \u001b[38;5;241m+\u001b[39m class_2, \u001b[38;5;241m0\u001b[39m)\n",
      "Cell \u001b[1;32mIn[17], line 10\u001b[0m, in \u001b[0;36moh_col_list\u001b[1;34m(original_cols, counter_init_val)\u001b[0m\n\u001b[0;32m      8\u001b[0m oh_cols \u001b[38;5;241m=\u001b[39m []\n\u001b[0;32m      9\u001b[0m \u001b[38;5;28;01mfor\u001b[39;00m col \u001b[38;5;129;01min\u001b[39;00m original_cols:\n\u001b[1;32m---> 10\u001b[0m     vals \u001b[38;5;241m=\u001b[39m \u001b[43mfull_mass_onehot\u001b[49m[col]\u001b[38;5;241m.\u001b[39munique()\n\u001b[0;32m     11\u001b[0m     \u001b[38;5;28;01mfor\u001b[39;00m val \u001b[38;5;129;01min\u001b[39;00m vals:\n\u001b[0;32m     12\u001b[0m         oh_cols\u001b[38;5;241m.\u001b[39mappend(\u001b[38;5;124mf\u001b[39m\u001b[38;5;124m'\u001b[39m\u001b[38;5;124mx\u001b[39m\u001b[38;5;132;01m{\u001b[39;00mcounter\u001b[38;5;132;01m}\u001b[39;00m\u001b[38;5;124m_\u001b[39m\u001b[38;5;132;01m{\u001b[39;00mval\u001b[38;5;132;01m}\u001b[39;00m\u001b[38;5;124m'\u001b[39m)\n",
      "\u001b[1;31mNameError\u001b[0m: name 'full_mass_onehot' is not defined"
     ]
    }
   ],
   "source": [
    "class_1 = [\"image_view\", \"left_or_right_breast\"]\n",
    "class_2 = [\"mass_shape\", \"mass_margins\"]\n",
    "\n",
    "counter = 0\n",
    "\n",
    "def oh_col_list(original_cols, counter_init_val):\n",
    "    counter = counter_init_val\n",
    "    oh_cols = []\n",
    "    for col in original_cols:\n",
    "        vals = full_mass_onehot[col].unique()\n",
    "        for val in vals:\n",
    "            oh_cols.append(f'x{counter}_{val}')\n",
    "        counter += 1\n",
    "    return oh_cols, counter\n",
    "\n",
    "class_1_cols, counter = oh_col_list(class_1, 0)\n",
    "class_2_cols, _ = oh_col_list(class_2, counter)\n",
    "class_3_cols, _ = oh_col_list(class_1 + class_2, 0)\n",
    "\n",
    "img_col_name = 'processed_images'\n",
    "class_2_cols = class_2_cols + ['breast_density', 'subtlety']\n",
    "class_3_cols = class_3_cols + ['breast_density', 'subtlety']\n",
    "# class_4_cols = class_3_cols + [\"subtlety\"]"
   ]
  },
  {
   "cell_type": "markdown",
   "metadata": {
    "_cell_guid": "7b2fbab7-b5cb-4d74-b199-4ce7b29ebd5d",
    "_uuid": "a1bc7b7c-8354-4a14-8f06-89b7515a7f4e"
   },
   "source": [
    "# Preprocessing of Images"
   ]
  },
  {
   "cell_type": "code",
   "execution_count": null,
   "metadata": {
    "_cell_guid": "44afe4c9-8513-4d18-8df1-6609df8e3a27",
    "_uuid": "2f83a407-9b3a-4d9d-9378-4a9159a2bb67",
    "collapsed": false,
    "jupyter": {
     "outputs_hidden": false
    }
   },
   "outputs": [],
   "source": [
    "import tensorflow as tf\n",
    "from tensorflow import keras\n",
    "import cv2\n",
    "from sklearn.model_selection import train_test_split, KFold\n",
    "from keras.utils import to_categorical, set_random_seed\n",
    "set_random_seed(42)\n",
    "np.random.seed(42)"
   ]
  },
  {
   "cell_type": "code",
   "execution_count": null,
   "metadata": {},
   "outputs": [
    {
     "data": {
      "text/plain": [
       "\" pd.options.display.max_rows = 4000\\npaths_array = full_mass['img_path'].apply(lambda x: os.path.abspath(x)).tolist()\\nprint(paths_array[0])\\nimg = dicom.dcmread(paths_array[0])\\n#print(img)\\npixel_img = img.pixel_array\\nprint(pixel_img)\\nresized_img_array = cv2.resize(pixel_img, (224,224))\\nresized_img_array = cv2.cvtColor(resized_img_array, cv2.COLOR_GRAY2RGB)\\nresized_img_array = resized_img_array.astype(float)\\nresized_img_array = np.round(((resized_img_array - np.min(resized_img_array)) / (np.max(resized_img_array) - np.min(resized_img_array))) * 255)\\nprint(resized_img_array.shape) \""
      ]
     },
     "execution_count": 27,
     "metadata": {},
     "output_type": "execute_result"
    }
   ],
   "source": [
    "# Testing for DICOM files\n",
    "import pydicom as dicom\n",
    "\"\"\" pd.options.display.max_rows = 4000\n",
    "paths_array = full_mass['img_path'].apply(lambda x: os.path.abspath(x)).tolist()\n",
    "print(paths_array[0])\n",
    "img = dicom.dcmread(paths_array[0])\n",
    "#print(img)\n",
    "pixel_img = img.pixel_array\n",
    "print(pixel_img)\n",
    "resized_img_array = cv2.resize(pixel_img, (224,224))\n",
    "resized_img_array = cv2.cvtColor(resized_img_array, cv2.COLOR_GRAY2RGB)\n",
    "resized_img_array = resized_img_array.astype(float)\n",
    "resized_img_array = np.round(((resized_img_array - np.min(resized_img_array)) / (np.max(resized_img_array) - np.min(resized_img_array))) * 255)\n",
    "print(resized_img_array.shape) \"\"\"\n"
   ]
  },
  {
   "cell_type": "code",
   "execution_count": null,
   "metadata": {},
   "outputs": [
    {
     "name": "stdout",
     "output_type": "stream",
     "text": [
      "<class 'pandas.core.series.Series'>\n",
      "(1584,)\n"
     ]
    }
   ],
   "source": [
    "from cv2 import resize\n",
    "\n",
    "\n",
    "def image_processor(image_path, target_size):\n",
    "    \"\"\"Preprocess images for CNN model\"\"\"\n",
    "    absolute_image_path = os.path.abspath(image_path)\n",
    "    img = dicom.dcmread(absolute_image_path)\n",
    "    pixel_img = img.pixel_array\n",
    "    #print(pixel_img.shape)\n",
    "    #print(pixel_img)\n",
    "    resized_img_array = cv2.resize(pixel_img, target_size)\n",
    "    resized_img_array = cv2.cvtColor(resized_img_array, cv2.COLOR_GRAY2RGB)\n",
    "    resized_img_array = resized_img_array.astype(float)\n",
    "    resized_img_array = np.round(((resized_img_array - np.min(resized_img_array)) / (np.max(resized_img_array) - np.min(resized_img_array))) * 255)\n",
    "    #print(resized_img_array.shape)\n",
    "    return resized_img_array\n",
    "\n",
    "print(type(full_mass[\"img_path\"]))\n",
    "series = full_mass['img_path']\n",
    "\n",
    "# Define the target size\n",
    "# This used to be (224, 224, 3)\n",
    "# Not sure why we need 3 dimensions,\n",
    "# but had to remove it to work.\n",
    "target_size = (224, 224)\n",
    "\n",
    "image_column = series.apply(lambda x: image_processor(x, target_size))\n",
    "print(image_column.shape)\n"
   ]
  },
  {
   "cell_type": "code",
   "execution_count": null,
   "metadata": {},
   "outputs": [],
   "source": [
    "\n",
    "PATH_TO_FILE = \"/Code/KEX-Job/Breast-Cancer-Detection-Mammogram-Deep-Learning/code/saved_models/dataset-CBIS-DDSM_mammogramtype-all_model-MobileNet_lr-0.0001_b-2_e1-100_e2-50_roi-False__saved-model.h5\"\n",
    "def pre_trained_model(filepath):\n",
    "    return keras.saving.load_model(filepath)\n",
    "\n",
    "pre_trained = pre_trained_model(PATH_TO_FILE)"
   ]
  },
  {
   "cell_type": "code",
   "execution_count": null,
   "metadata": {},
   "outputs": [
    {
     "name": "stdout",
     "output_type": "stream",
     "text": [
      "0      [[[255.0, 255.0, 255.0], [255.0, 255.0, 255.0]...\n",
      "1      [[[255.0, 255.0, 255.0], [255.0, 255.0, 255.0]...\n",
      "2      [[[243.0, 243.0, 243.0], [243.0, 243.0, 243.0]...\n",
      "3      [[[191.0, 191.0, 191.0], [192.0, 192.0, 192.0]...\n",
      "4      [[[255.0, 255.0, 255.0], [255.0, 255.0, 255.0]...\n",
      "                             ...                        \n",
      "354    [[[4.0, 4.0, 4.0], [3.0, 3.0, 3.0], [1.0, 1.0,...\n",
      "355    [[[114.0, 114.0, 114.0], [80.0, 80.0, 80.0], [...\n",
      "356    [[[236.0, 236.0, 236.0], [237.0, 237.0, 237.0]...\n",
      "357    [[[0.0, 0.0, 0.0], [0.0, 0.0, 0.0], [0.0, 0.0,...\n",
      "358    [[[0.0, 0.0, 0.0], [0.0, 0.0, 0.0], [0.0, 0.0,...\n",
      "Name: img_path, Length: 1584, dtype: object\n",
      "Index(['img', 'img_path', 'label', 'labels'], dtype='object')\n",
      "0      1.0\n",
      "1      1.0\n",
      "2      0.0\n",
      "3      0.0\n",
      "4      0.0\n",
      "      ... \n",
      "354    0.0\n",
      "355    1.0\n",
      "356    1.0\n",
      "357    1.0\n",
      "358    1.0\n",
      "Name: labels, Length: 1584, dtype: float32\n"
     ]
    }
   ],
   "source": [
    "print(image_column)\n",
    "print(full_mass.columns)\n",
    "print(full_mass[\"labels\"])"
   ]
  },
  {
   "cell_type": "code",
   "execution_count": null,
   "metadata": {},
   "outputs": [
    {
     "name": "stdout",
     "output_type": "stream",
     "text": [
      "GPUs:  [PhysicalDevice(name='/physical_device:GPU:0', device_type='GPU')]\n",
      "<tensorflow.python.client.session.Session object at 0x000001D63C17AEB0>\n",
      "[PhysicalDevice(name='/physical_device:CPU:0', device_type='CPU'), PhysicalDevice(name='/physical_device:GPU:0', device_type='GPU')]\n",
      "[name: \"/device:CPU:0\"\n",
      "device_type: \"CPU\"\n",
      "memory_limit: 268435456\n",
      "locality {\n",
      "}\n",
      "incarnation: 16172623468976888861\n",
      "xla_global_id: -1\n",
      ", name: \"/device:GPU:0\"\n",
      "device_type: \"GPU\"\n",
      "memory_limit: 5744099328\n",
      "locality {\n",
      "  bus_id: 1\n",
      "  links {\n",
      "  }\n",
      "}\n",
      "incarnation: 5981020654227896753\n",
      "physical_device_desc: \"device: 0, name: NVIDIA GeForce RTX 3060 Ti, pci bus id: 0000:01:00.0, compute capability: 8.6\"\n",
      "xla_global_id: 416903419\n",
      "]\n"
     ]
    }
   ],
   "source": [
    "sess = tf.compat.v1.Session()\n",
    "print(\"GPUs: \", tf.config.list_physical_devices('GPU'))\n",
    "print(sess)\n",
    "from tensorflow.python.client import device_lib\n",
    "print(tf.config.list_physical_devices())\n",
    "print(device_lib.list_local_devices())"
   ]
  },
  {
   "cell_type": "code",
   "execution_count": null,
   "metadata": {},
   "outputs": [
    {
     "ename": "NameError",
     "evalue": "name 'full_mass_onehot' is not defined",
     "output_type": "error",
     "traceback": [
      "\u001b[1;31m---------------------------------------------------------------------------\u001b[0m",
      "\u001b[1;31mNameError\u001b[0m                                 Traceback (most recent call last)",
      "Cell \u001b[1;32mIn[31], line 1\u001b[0m\n\u001b[1;32m----> 1\u001b[0m \u001b[43mfull_mass_onehot\u001b[49m[img_col_name] \u001b[38;5;241m=\u001b[39m image_column\n",
      "\u001b[1;31mNameError\u001b[0m: name 'full_mass_onehot' is not defined"
     ]
    }
   ],
   "source": [
    "full_mass_onehot[img_col_name] = image_column"
   ]
  },
  {
   "cell_type": "code",
   "execution_count": null,
   "metadata": {},
   "outputs": [
    {
     "data": {
      "text/plain": [
       "'\\nX_train, X_test, y_train, y_test = train_test_split(full_mass_onehot, full_mass_onehot[\\'labels\\'].values, test_size = 0.2, random_state = 42)\\n\\nX_train_0 = np.asarray(X_train[img_col_name].to_list())\\nX_test_0 = np.asarray(X_test[img_col_name].to_list())\\ny_train = y_train\\ny_test = y_test\\n\\nprint(X_train[[img_col_name, \"breast_density\"]].head(1))\\nprint(class_1_cols)\\nprint([img_col_name, \"breast_density\"])\\n\\nX_train_1 = np.asarray(X_train[class_1_cols])\\nX_test_1 = np.asarray(X_test[class_1_cols])\\n\\nX_train_2 = np.asarray(X_train[class_2_cols])\\nX_test_2 = np.asarray(X_test[class_2_cols])\\n\\nX_train_3 = np.asarray(X_train[class_3_cols])\\nX_test_3 = np.asarray(X_test[class_3_cols])\\n\\nX_train_4 = np.asarray(X_train[class_4_cols])\\nX_test_4 = np.asarray(X_test[class_4_cols])\\n\\nprint(\\'X_train_0 shape : {}\\' .format(X_train_0.shape))\\nprint(\\'X_test_0 shape : {}\\' .format(X_test_0.shape))\\nprint(\\'X_train_1 shape : {}\\' .format(X_train_1.shape[1]))\\nprint(\\'X_test_1 shape : {}\\' .format(X_test_1.shape))\\nprint(\\'y_train shape : {}\\' .format(y_train.shape))\\nprint(\\'y_test shape : {}\\' .format(y_test.shape))\\n'"
      ]
     },
     "execution_count": 32,
     "metadata": {},
     "output_type": "execute_result"
    }
   ],
   "source": [
    "# Splitting without a validation set in the training set\n",
    "'''\n",
    "X_train, X_test, y_train, y_test = train_test_split(full_mass_onehot, full_mass_onehot['labels'].values, test_size = 0.2, random_state = 42)\n",
    "\n",
    "X_train_0 = np.asarray(X_train[img_col_name].to_list())\n",
    "X_test_0 = np.asarray(X_test[img_col_name].to_list())\n",
    "y_train = y_train\n",
    "y_test = y_test\n",
    "\n",
    "print(X_train[[img_col_name, \"breast_density\"]].head(1))\n",
    "print(class_1_cols)\n",
    "print([img_col_name, \"breast_density\"])\n",
    "\n",
    "X_train_1 = np.asarray(X_train[class_1_cols])\n",
    "X_test_1 = np.asarray(X_test[class_1_cols])\n",
    "\n",
    "X_train_2 = np.asarray(X_train[class_2_cols])\n",
    "X_test_2 = np.asarray(X_test[class_2_cols])\n",
    "\n",
    "X_train_3 = np.asarray(X_train[class_3_cols])\n",
    "X_test_3 = np.asarray(X_test[class_3_cols])\n",
    "\n",
    "X_train_4 = np.asarray(X_train[class_4_cols])\n",
    "X_test_4 = np.asarray(X_test[class_4_cols])\n",
    "\n",
    "print('X_train_0 shape : {}' .format(X_train_0.shape))\n",
    "print('X_test_0 shape : {}' .format(X_test_0.shape))\n",
    "print('X_train_1 shape : {}' .format(X_train_1.shape[1]))\n",
    "print('X_test_1 shape : {}' .format(X_test_1.shape))\n",
    "print('y_train shape : {}' .format(y_train.shape))\n",
    "print('y_test shape : {}' .format(y_test.shape))\n",
    "'''"
   ]
  },
  {
   "cell_type": "code",
   "execution_count": null,
   "metadata": {},
   "outputs": [],
   "source": [
    "# Image dataset from original DICOM images\n",
    "X_train_img, X_test_img, y_train_img, y_test_img = train_test_split(image_column, full_mass[\"labels\"].values, test_size = 0.2, random_state=42)\n",
    "\n",
    "X_train_ready = np.asarray(X_train_img.to_list())\n",
    "X_test_ready = np.asarray(X_test_img.to_list())\n"
   ]
  },
  {
   "cell_type": "code",
   "execution_count": null,
   "metadata": {},
   "outputs": [
    {
     "name": "stdout",
     "output_type": "stream",
     "text": [
      "<class 'pandas.core.series.Series'>\n",
      "(1267,)\n",
      "\n",
      "X_train_ready shape:  (1267, 224, 224, 3)\n",
      "\n",
      "First img:  552    [[[246.0, 246.0, 246.0], [80.0, 80.0, 80.0], [...\n",
      "Name: img_path, dtype: object\n",
      "(317,)\n",
      "(1267,)\n",
      "(317,)\n",
      "Type of y_test and y_train:  <class 'numpy.ndarray'> <class 'numpy.ndarray'>\n"
     ]
    },
    {
     "data": {
      "text/plain": [
       "0.0"
      ]
     },
     "execution_count": 34,
     "metadata": {},
     "output_type": "execute_result"
    }
   ],
   "source": [
    "print(type(X_train_img))\n",
    "print(X_train_img.shape)\n",
    "print(\"\\nX_train_ready shape: \", X_train_ready.shape)\n",
    "print(\"\\nFirst img: \", X_train_img.head(1))\n",
    "print(X_test_img.shape)\n",
    "print(y_train_img.shape)\n",
    "print(y_test_img.shape)\n",
    "\n",
    "print(\"Type of y_test and y_train: \", type(y_test_img), type(y_train_img))\n",
    "y_train_img[0]"
   ]
  },
  {
   "cell_type": "code",
   "execution_count": null,
   "metadata": {},
   "outputs": [
    {
     "ename": "NameError",
     "evalue": "name 'full_mass_onehot' is not defined",
     "output_type": "error",
     "traceback": [
      "\u001b[1;31m---------------------------------------------------------------------------\u001b[0m",
      "\u001b[1;31mNameError\u001b[0m                                 Traceback (most recent call last)",
      "Cell \u001b[1;32mIn[35], line 3\u001b[0m\n\u001b[0;32m      1\u001b[0m \u001b[38;5;66;03m# Splitting with a validation set in the training set\u001b[39;00m\n\u001b[0;32m      2\u001b[0m \u001b[38;5;66;03m# by splitting the training set again with 20% for validation set\u001b[39;00m\n\u001b[1;32m----> 3\u001b[0m X_train_preval, X_test, y_train_preval, y_test \u001b[38;5;241m=\u001b[39m train_test_split(\u001b[43mfull_mass_onehot\u001b[49m, full_mass_onehot[\u001b[38;5;124m'\u001b[39m\u001b[38;5;124mlabels\u001b[39m\u001b[38;5;124m'\u001b[39m]\u001b[38;5;241m.\u001b[39mvalues, test_size \u001b[38;5;241m=\u001b[39m \u001b[38;5;241m0.2\u001b[39m, random_state \u001b[38;5;241m=\u001b[39m \u001b[38;5;241m42\u001b[39m)\n\u001b[0;32m      5\u001b[0m X_train, X_val, y_train, y_val \u001b[38;5;241m=\u001b[39m train_test_split(X_train_preval, y_train_preval, test_size\u001b[38;5;241m=\u001b[39m\u001b[38;5;241m0.2\u001b[39m, random_state\u001b[38;5;241m=\u001b[39m\u001b[38;5;241m42\u001b[39m)\n\u001b[0;32m      7\u001b[0m X_train_0 \u001b[38;5;241m=\u001b[39m np\u001b[38;5;241m.\u001b[39masarray(X_train[img_col_name]\u001b[38;5;241m.\u001b[39mto_list())\n",
      "\u001b[1;31mNameError\u001b[0m: name 'full_mass_onehot' is not defined"
     ]
    }
   ],
   "source": [
    "# Splitting with a validation set in the training set\n",
    "# by splitting the training set again with 20% for validation set\n",
    "X_train_preval, X_test, y_train_preval, y_test = train_test_split(full_mass_onehot, full_mass_onehot['labels'].values, test_size = 0.2, random_state = 42)\n",
    "\n",
    "X_train, X_val, y_train, y_val = train_test_split(X_train_preval, y_train_preval, test_size=0.2, random_state=42)\n",
    "\n",
    "X_train_0 = np.asarray(X_train[img_col_name].to_list())\n",
    "X_val_0 = np.asarray(X_val[img_col_name].to_list())\n",
    "X_test_0 = np.asarray(X_test[img_col_name].to_list())\n",
    "y_train = y_train\n",
    "y_test = y_test\n",
    "\n",
    "print(X_train[[img_col_name, \"breast_density\"]].head(1))\n",
    "print(class_1_cols)\n",
    "print([img_col_name, \"breast_density\"])\n",
    "\n",
    "X_train_1 = np.asarray(X_train[class_1_cols])\n",
    "X_val_1 = np.asarray(X_val[class_1_cols])\n",
    "X_test_1 = np.asarray(X_test[class_1_cols])\n",
    "\n",
    "X_train_2 = np.asarray(X_train[class_2_cols])\n",
    "X_val_2 = np.asarray(X_val[class_2_cols])\n",
    "X_test_2 = np.asarray(X_test[class_2_cols])\n",
    "\n",
    "X_train_3 = np.asarray(X_train[class_3_cols])\n",
    "X_val_3 = np.asarray(X_val[class_3_cols])\n",
    "X_test_3 = np.asarray(X_test[class_3_cols])\n",
    "\n",
    "print('X_train_0 shape : {}' .format(X_train_0.shape))\n",
    "print('X_test_0 shape : {}' .format(X_test_0.shape))\n",
    "print('X_train_1 shape : {}' .format(X_train_1.shape[1]))\n",
    "print('X_test_1 shape : {}' .format(X_test_1.shape))\n",
    "print('y_train shape : {}' .format(y_train.shape))\n",
    "print('y_test shape : {}' .format(y_test.shape))"
   ]
  },
  {
   "cell_type": "markdown",
   "metadata": {
    "_cell_guid": "6692b502-1d04-4ac7-875f-e077acc63aa2",
    "_uuid": "39ed189a-298e-476b-a63b-cd032cda2899"
   },
   "source": [
    "# CNN Architecture"
   ]
  },
  {
   "cell_type": "code",
   "execution_count": null,
   "metadata": {},
   "outputs": [],
   "source": [
    "from keras.models import Model\n",
    "from keras import layers\n",
    "from keras.applications.vgg19 import VGG19\n",
    "from keras.applications.xception import Xception\n",
    "from keras import metrics\n",
    "from keras.callbacks import LambdaCallback"
   ]
  },
  {
   "cell_type": "code",
   "execution_count": null,
   "metadata": {},
   "outputs": [],
   "source": [
    "vgg19_train_input = keras.applications.vgg19.preprocess_input(X_train_0)\n",
    "vgg19_val_input = keras.applications.vgg19.preprocess_input(X_val_0)\n",
    "vgg19_test_input = keras.applications.vgg19.preprocess_input(X_test_0)\n",
    "xception_train_input = keras.applications.xception.preprocess_input(X_train_0)\n",
    "xception_val_input = keras.applications.xception.preprocess_input(X_val_0)\n",
    "xception_test_input = keras.applications.xception.preprocess_input(X_test_0)"
   ]
  },
  {
   "cell_type": "code",
   "execution_count": null,
   "metadata": {},
   "outputs": [],
   "source": [
    "# Preprocessing DICOM images\n",
    "vgg19_train_dicom_input = keras.applications.vgg19.preprocess_input(X_train_ready)\n",
    "vgg19_test_dicom_input = keras.applications.vgg19.preprocess_input(X_test_ready)\n",
    "xception_train_dicom_input = keras.applications.xception.preprocess_input(X_train_ready)\n",
    "xception_test_dicom_input = keras.applications.xception.preprocess_input(X_test_ready)"
   ]
  },
  {
   "cell_type": "code",
   "execution_count": null,
   "metadata": {},
   "outputs": [],
   "source": [
    "def original_model(input_shape):\n",
    "    input_img = layers.Input(shape=input_shape)\n",
    "    a = layers.Conv2D(32, 3, padding='valid', activation='relu')(input_img)\n",
    "    a = layers.MaxPooling2D()(a)\n",
    "    a = layers.Conv2D(64, 3, padding='valid', activation='relu')(a)\n",
    "    a = layers.MaxPooling2D()(a)\n",
    "    a = layers.Flatten()(a)\n",
    "    a = layers.Dense(64)(a)\n",
    "    a = layers.Dense(1, activation='sigmoid')(a)\n",
    "    return Model(inputs=input_img, outputs=a)\n",
    "\n",
    "def vgg19_model():\n",
    "    vgg19_model = VGG19(include_top=False, weights='imagenet')\n",
    "    for layer in vgg19_model.layers:\n",
    "        layer.trainable=False\n",
    "    c = layers.GlobalMaxPooling2D()(vgg19_model.output)\n",
    "    c = layers.Dense(2048, activation='relu')(c)\n",
    "    c = layers.Dropout(0.005)(c)\n",
    "    c = layers.Dense(1024, activation='relu')(c)\n",
    "    c = layers.Dropout(0.005)(c)\n",
    "    c = layers.Dense(1024, activation='relu')(c)\n",
    "    c = layers.Dense(1, activation='sigmoid')(c)\n",
    "    return Model(inputs=vgg19_model.input, outputs=c)\n",
    "\n",
    "def xception_model():\n",
    "    xception_model = Xception(include_top=False, weights='imagenet')\n",
    "    for layer in xception_model.layers:\n",
    "        layer.trainable=False\n",
    "    c = layers.GlobalMaxPooling2D()(xception_model.output)\n",
    "    c = layers.Dense(1024, activation='relu')(c)\n",
    "    c = layers.Dropout(0.005)(c)\n",
    "    c = layers.Dense(512, activation='relu')(c)\n",
    "    c = layers.Dense(1, activation='sigmoid')(c)\n",
    "    return Model(inputs=xception_model.input, outputs=c)\n",
    "\n",
    "def cat_model(input_shape):\n",
    "    input_cat = layers.Input(shape=input_shape)\n",
    "    b = layers.Dense(32, activation=\"relu\")(input_cat)\n",
    "    b = layers.Dense(32, activation=\"relu\")(b)\n",
    "    b = layers.Dense(1, activation=\"sigmoid\")(b)\n",
    "    return Model(inputs=input_cat, outputs=b)\n",
    "\n",
    "def combo_model(image_model, cat_input_shape):\n",
    "    a = image_model\n",
    "    b = cat_model(cat_input_shape)\n",
    "    print(\"Image output pre-concat: \", (a.output))\n",
    "    print(\"Categorical output pre-concat: \", b.output)\n",
    "    c = layers.concatenate([a.output, b.output], name=\"concat_layer\")\n",
    "    #c = layers.BatchNormalization()(c)\n",
    "    c = layers.Dense(units=12, kernel_regularizer=\"l1\", kernel_constraint=keras.constraints.MaxNorm(max_value=1., axis=1), name=\"first_dense_layer\")(c)\n",
    "    c = layers.Reshape((3,4))(c)\n",
    "    c = layers.Conv1D(2, 2, padding='valid', activation='relu')(c)\n",
    "    c = layers.MaxPooling1D()(c)\n",
    "    c = layers.Flatten()(c)\n",
    "    c = layers.Dense(4)(c)\n",
    "    c = layers.Dense(1, activation=\"sigmoid\")(c)\n",
    "    model = Model(inputs=[a.input, b.input], outputs=c)\n",
    "    #print(model.summary())\n",
    "\n",
    "    return model\n",
    "\n",
    "def og_combo_model(image_model, cat_input_shape):\n",
    "    a = image_model\n",
    "    b = cat_model(cat_input_shape)\n",
    "    print(\"Image output pre-concat: \", (a.output))\n",
    "    print(\"Categorical output pre-concat: \", b.output)\n",
    "    c = layers.concatenate([a.output, b.output], name=\"concat_layer\")\n",
    "    c = layers.Dense(units=2, activation=\"relu\")(c)\n",
    "    c = layers.Dense(1, activation=\"sigmoid\")(c)\n",
    "    model = Model(inputs=[a.input, b.input], outputs=c)\n",
    "    #print(model.summary())\n",
    "\n",
    "    return model\n",
    "    "
   ]
  },
  {
   "cell_type": "markdown",
   "metadata": {},
   "source": [
    "# Parameters"
   ]
  },
  {
   "cell_type": "code",
   "execution_count": null,
   "metadata": {},
   "outputs": [],
   "source": [
    "# Compile\n",
    "!pip install tensorflow-addons==0.16.1\n",
    "#import tensorflow_addons as tfa\n",
    "model_optimizer_OLD = keras.optimizers.SGD(learning_rate=0.01, momentum=0.9, nesterov=False)\n",
    "model_optimizer = \"rmsprop\"\n",
    "model_metrics = [\n",
    "    metrics.BinaryAccuracy(),\n",
    "    metrics.Recall(),\n",
    "    metrics.Precision(),\n",
    "    #tfa.metrics.F1Score()\n",
    "]\n",
    "\n",
    "# Fit\n",
    "batch_size = 32\n",
    "epochs=12"
   ]
  },
  {
   "cell_type": "code",
   "execution_count": null,
   "metadata": {},
   "outputs": [],
   "source": [
    "from keras.models import Model\n",
    "from keras import metrics\n",
    "from keras.optimizers.schedules import ExponentialDecay, PiecewiseConstantDecay\n",
    "\n",
    "lr_scheduler1 = ExponentialDecay(initial_learning_rate=0.99, decay_steps=10000000000, decay_rate=0.95)\n",
    "lr_scheduler2 = PiecewiseConstantDecay([100000000000000], [1.0, 0.4])\n",
    "sgd_optimizer=keras.optimizers.SGD(learning_rate=0.01, momentum=0.4, nesterov=False)\n",
    "\n",
    "def train_combo_model(image_input, cat_input, image_model, labels, img_val, cat_val, y_val):\n",
    "    model = combo_model(image_model, cat_input.shape[1])\n",
    "    model.compile(\n",
    "        loss='binary_crossentropy', \n",
    "        optimizer=model_optimizer,\n",
    "        metrics=model_metrics\n",
    "    )\n",
    "    print_outputs = LambdaCallback(on_epoch_end=lambda batch, logs: print(\"Layer output: \", keras.backend.eval(model.get_layer(\"concat_layer\"))))\n",
    "    print_weights = LambdaCallback(on_epoch_end=lambda batch, logs: print(\"Layer weights: \", np.linalg.norm(model.get_layer(\"first_dense_layer\").get_weights()[0]),np.linalg.norm(model.get_layer(\"first_dense_layer\").get_weights()[1])))\n",
    "    history = model.fit([image_input, cat_input], labels, batch_size=batch_size, epochs=epochs, validation_data=([img_val, cat_val], y_val),verbose=2, callbacks = [print_outputs, print_weights])\n",
    "    return model, history\n",
    "\n",
    "def train_og_combo_model(image_input, cat_input, image_model, labels, img_val, cat_val, y_val):\n",
    "    model = combo_model(image_model, cat_input.shape[1])\n",
    "    model.compile(\n",
    "        loss='binary_crossentropy', \n",
    "        optimizer=model_optimizer,\n",
    "        metrics=model_metrics\n",
    "    )\n",
    "    print_outputs = LambdaCallback(on_epoch_end=lambda batch, logs: print(\"Layer output: \", keras.backend.eval(model.get_layer(\"concat_layer\"))))\n",
    "    print_weights = LambdaCallback(on_epoch_end=lambda batch, logs: print(\"Layer weights: \", np.linalg.norm(model.get_layer(\"first_dense_layer\").get_weights()[0]),np.linalg.norm(model.get_layer(\"first_dense_layer\").get_weights()[1])))\n",
    "    history = model.fit([image_input, cat_input], labels, batch_size=batch_size, epochs=epochs, validation_data=([img_val, cat_val], y_val),verbose=2, callbacks = [print_outputs, print_weights])\n",
    "    return model, history"
   ]
  },
  {
   "cell_type": "markdown",
   "metadata": {},
   "source": [
    "# Training and Evaluation"
   ]
  },
  {
   "cell_type": "markdown",
   "metadata": {},
   "source": [
    "# Categorical Data Only"
   ]
  },
  {
   "cell_type": "code",
   "execution_count": null,
   "metadata": {},
   "outputs": [],
   "source": [
    "def train_cat_model(x, y, x_val, y_val):\n",
    "    model = cat_model(x.shape[1])\n",
    "    model.compile(\n",
    "        loss='binary_crossentropy', \n",
    "        # optimizer=keras.optimizers.Adam(learning_rate=0.001),\n",
    "        optimizer=model_optimizer,\n",
    "        metrics=model_metrics\n",
    "    )\n",
    "    history = model.fit([x], y, batch_size=batch_size, epochs=epochs, validation_data=(x_val, y_val), verbose=2)\n",
    "    return model, history\n",
    "    \n",
    "cat_model_1, cat_1_fit_history = train_cat_model(X_train_1, y_train, X_val_1, y_val)\n",
    "cat_model_2, cat_2_fit_history = train_cat_model(X_train_2, y_train, X_val_2, y_val)\n",
    "cat_model_3, cat_3_fit_history = train_cat_model(X_train_3, y_train, X_val_3, y_val)\n",
    "    \n",
    "print(\"\")\n",
    "cat_1_eval_history = cat_model_1.evaluate(X_test_1, y_test)\n",
    "cat_2_eval_history = cat_model_2.evaluate(X_test_2, y_test)\n",
    "cat_3_eval_history = cat_model_3.evaluate(X_test_3, y_test)"
   ]
  },
  {
   "cell_type": "markdown",
   "metadata": {},
   "source": [
    "# Original Combo Model"
   ]
  },
  {
   "cell_type": "code",
   "execution_count": null,
   "metadata": {},
   "outputs": [],
   "source": [
    "og_combo_model_1, og_combo_1_fit_history = train_og_combo_model(X_train_0, X_train_1, original_model(target_size), y_train, X_val_0, X_val_1, y_val)\n",
    "print(\"\")\n",
    "og_combo_model_2, og_combo_2_fit_history = train_og_combo_model(X_train_0, X_train_2, original_model(target_size), y_train, X_val_0, X_val_2, y_val)\n",
    "print(\"\")\n",
    "og_combo_model_3, og_combo_3_fit_history = train_og_combo_model(X_train_0, X_train_3, original_model(target_size), y_train, X_val_0, X_val_3, y_val)"
   ]
  },
  {
   "cell_type": "code",
   "execution_count": null,
   "metadata": {},
   "outputs": [],
   "source": [
    "og_combo_1_eval_history = og_combo_model_1.evaluate([X_test_0, X_test_1], y_test)\n",
    "og_combo_2_eval_history = og_combo_model_2.evaluate([X_test_0, X_test_2], y_test)\n",
    "og_combo_3_eval_history = og_combo_model_3.evaluate([X_test_0, X_test_3], y_test)"
   ]
  },
  {
   "cell_type": "markdown",
   "metadata": {},
   "source": [
    "# Original Kex Model"
   ]
  },
  {
   "cell_type": "code",
   "execution_count": null,
   "metadata": {},
   "outputs": [],
   "source": [
    "og_model_0 = original_model(target_size)\n",
    "og_model_0.compile(optimizer=model_optimizer, \n",
    "               loss='binary_crossentropy',\n",
    "               metrics=[\n",
    "                    metrics.BinaryAccuracy(),\n",
    "                    metrics.Recall(),\n",
    "                    metrics.Precision(),\n",
    "                    metrics.F1Score()]\n",
    "              )\n",
    "og_0_fit_history = og_model_0.fit(X_train_0, y_train, batch_size=batch_size, epochs=epochs, validation_data=(X_val_0, y_val) ,verbose=2)\n",
    "og_0_eval_history = og_model_0.evaluate(X_test_0, y_test)"
   ]
  },
  {
   "cell_type": "code",
   "execution_count": null,
   "metadata": {},
   "outputs": [],
   "source": [
    "og_model_1, og_1_fit_history = train_combo_model(X_train_0, X_train_1, original_model(target_size), y_train, X_val_0, X_val_1, y_val)\n",
    "print(\"\")\n",
    "og_model_2, og_2_fit_history = train_combo_model(X_train_0, X_train_2, original_model(target_size), y_train, X_val_0, X_val_2, y_val)\n",
    "print(\"\")\n",
    "og_model_3, og_3_fit_history = train_combo_model(X_train_0, X_train_3, original_model(target_size), y_train, X_val_0, X_val_3, y_val)"
   ]
  },
  {
   "cell_type": "markdown",
   "metadata": {},
   "source": []
  },
  {
   "cell_type": "code",
   "execution_count": null,
   "metadata": {},
   "outputs": [],
   "source": [
    "og_1_eval_history = og_model_1.evaluate([X_test_0, X_test_1], y_test)\n",
    "og_2_eval_history = og_model_2.evaluate([X_test_0, X_test_2], y_test)\n",
    "og_3_eval_history = og_model_3.evaluate([X_test_0, X_test_3], y_test)"
   ]
  },
  {
   "cell_type": "markdown",
   "metadata": {},
   "source": [
    "# XCeption Models"
   ]
  },
  {
   "cell_type": "code",
   "execution_count": null,
   "metadata": {},
   "outputs": [
    {
     "name": "stdout",
     "output_type": "stream",
     "text": [
      "Epoch 1/12\n",
      "40/40 - 5s - loss: 0.8433 - binary_accuracy: 0.5221 - recall: 0.4628 - precision: 0.4872 - 5s/epoch - 118ms/step\n",
      "Epoch 2/12\n",
      "40/40 - 2s - loss: 0.6921 - binary_accuracy: 0.5564 - recall: 0.4344 - precision: 0.5258 - 2s/epoch - 54ms/step\n",
      "Epoch 3/12\n",
      "40/40 - 2s - loss: 0.6577 - binary_accuracy: 0.6062 - recall: 0.4668 - precision: 0.5957 - 2s/epoch - 54ms/step\n",
      "Epoch 4/12\n",
      "40/40 - 2s - loss: 0.6542 - binary_accuracy: 0.5991 - recall: 0.4872 - precision: 0.5801 - 2s/epoch - 54ms/step\n",
      "Epoch 5/12\n",
      "40/40 - 2s - loss: 0.6343 - binary_accuracy: 0.6275 - recall: 0.5349 - precision: 0.6121 - 2s/epoch - 54ms/step\n",
      "Epoch 6/12\n",
      "40/40 - 2s - loss: 0.6218 - binary_accuracy: 0.6614 - recall: 0.5826 - precision: 0.6502 - 2s/epoch - 54ms/step\n",
      "Epoch 7/12\n",
      "40/40 - 2s - loss: 0.6210 - binary_accuracy: 0.6480 - recall: 0.5571 - precision: 0.6374 - 2s/epoch - 54ms/step\n",
      "Epoch 8/12\n",
      "40/40 - 2s - loss: 0.6051 - binary_accuracy: 0.6740 - recall: 0.6082 - precision: 0.6611 - 2s/epoch - 54ms/step\n",
      "Epoch 9/12\n",
      "40/40 - 2s - loss: 0.5962 - binary_accuracy: 0.6859 - recall: 0.6031 - precision: 0.6821 - 2s/epoch - 54ms/step\n",
      "Epoch 10/12\n",
      "40/40 - 2s - loss: 0.5880 - binary_accuracy: 0.6851 - recall: 0.6133 - precision: 0.6767 - 2s/epoch - 54ms/step\n",
      "Epoch 11/12\n",
      "40/40 - 2s - loss: 0.5791 - binary_accuracy: 0.6977 - recall: 0.6184 - precision: 0.6954 - 2s/epoch - 54ms/step\n",
      "Epoch 12/12\n",
      "40/40 - 2s - loss: 0.5721 - binary_accuracy: 0.7032 - recall: 0.6337 - precision: 0.6979 - 2s/epoch - 54ms/step\n"
     ]
    }
   ],
   "source": [
    "xception_model_0 = xception_model()\n",
    "\n",
    "xception_model_0.compile(optimizer=\"sgd\", \n",
    "               loss='binary_crossentropy',\n",
    "               metrics=model_metrics\n",
    "                        )\n",
    "y_train_img_2d = np.expand_dims(y_train_img, -1)\n",
    "y_test_img_2d = np.expand_dims(y_test_img, -1)\n",
    "xception_0_fit_history = xception_model_0.fit(xception_train_dicom_input, y_train_img_2d, batch_size=batch_size, epochs=12 ,verbose=2)"
   ]
  },
  {
   "cell_type": "code",
   "execution_count": null,
   "metadata": {},
   "outputs": [
    {
     "name": "stdout",
     "output_type": "stream",
     "text": [
      "317/317 [==============================] - 3s 7ms/step - loss: 0.6614 - binary_accuracy: 0.5994 - recall: 0.4474 - precision: 0.6126\n"
     ]
    }
   ],
   "source": [
    "xception_0_eval_history = xception_model_0.evaluate(xception_test_dicom_input, y_test_img, batch_size=1)"
   ]
  },
  {
   "cell_type": "code",
   "execution_count": null,
   "metadata": {},
   "outputs": [],
   "source": [
    "xception_model_1, xception_1_fit_history = train_combo_model(xception_train_input, X_train_1, xception_model(), y_train, xception_val_input, X_val_1, y_val)\n",
    "print(\"\")\n",
    "xception_model_2, xception_2_fit_history = train_combo_model(xception_train_input, X_train_2, xception_model(), y_train, xception_val_input, X_val_2, y_val)\n",
    "print(\"\")\n",
    "xception_model_3, xception_3_fit_history = train_combo_model(xception_train_input, X_train_3, xception_model(), y_train, xception_val_input, X_val_3, y_val)"
   ]
  },
  {
   "cell_type": "code",
   "execution_count": null,
   "metadata": {
    "_cell_guid": "978d9bb9-144a-43fa-ba77-1c2b16d71379",
    "_uuid": "23e82cb5-67be-4356-b9cf-28f4b7fa3e9d",
    "collapsed": false,
    "jupyter": {
     "outputs_hidden": false
    }
   },
   "outputs": [],
   "source": [
    "xception_1_eval_history = xception_model_1.evaluate([xception_test_input, X_test_1], y_test)\n",
    "xception_2_eval_history = xception_model_2.evaluate([xception_test_input, X_test_2], y_test)\n",
    "xception_3_eval_history = xception_model_3.evaluate([xception_test_input, X_test_3], y_test)"
   ]
  },
  {
   "cell_type": "markdown",
   "metadata": {},
   "source": [
    "# VGG19 Models"
   ]
  },
  {
   "cell_type": "code",
   "execution_count": null,
   "metadata": {},
   "outputs": [],
   "source": [
    "vgg19_model_0 = vgg19_model()\n",
    "\n",
    "vgg19_model_0.compile(optimizer=model_optimizer, \n",
    "               loss='binary_crossentropy',\n",
    "               metrics=[\n",
    "                    metrics.BinaryAccuracy(),\n",
    "                    metrics.Recall(),\n",
    "                    metrics.Precision(),\n",
    "                    metrics.F1Score()]\n",
    "              )\n",
    "\n",
    "vgg19_0_fit_history = vgg19_model_0.fit(vgg19_train_input, y_train, batch_size=batch_size, epochs=epochs, validation_data=(vgg19_val_input, y_val), verbose=2)\n",
    "vgg19_0_eval_history = vgg19_model_0.evaluate(vgg19_test_input, y_test)"
   ]
  },
  {
   "cell_type": "code",
   "execution_count": null,
   "metadata": {},
   "outputs": [],
   "source": [
    "vgg19_model_1, vgg19_1_fit_history = train_combo_model(vgg19_train_input, X_train_1, vgg19_model(), y_train, vgg19_val_input, X_val_1, y_val)\n",
    "print(\"\")\n",
    "vgg19_model_2, vgg19_2_fit_history = train_combo_model(vgg19_train_input, X_train_2, vgg19_model(), y_train, vgg19_val_input, X_val_2, y_val)\n",
    "print(\"\")\n",
    "vgg19_model_3, vgg19_3_fit_history = train_combo_model(vgg19_train_input, X_train_3, vgg19_model(), y_train, vgg19_val_input, X_val_3, y_val)"
   ]
  },
  {
   "cell_type": "code",
   "execution_count": null,
   "metadata": {},
   "outputs": [],
   "source": [
    "vgg19_1_eval_history = vgg19_model_1.evaluate([vgg19_test_input, X_test_1], y_test)\n",
    "vgg19_1_eval_history = vgg19_model_2.evaluate([vgg19_test_input, X_test_2], y_test)\n",
    "vgg19_1_eval_history = vgg19_model_3.evaluate([vgg19_test_input, X_test_3], y_test)"
   ]
  },
  {
   "cell_type": "markdown",
   "metadata": {
    "_cell_guid": "81a685a8-ee5e-46cf-9055-1d0dd7e9e38d",
    "_uuid": "5d7bfbc6-78a5-45c4-ba41-dc282f59f03a"
   },
   "source": [
    "# Graphs"
   ]
  },
  {
   "cell_type": "code",
   "execution_count": null,
   "metadata": {},
   "outputs": [],
   "source": [
    "def broken_loss_graph(history, top_upper_lim, top_lower_lim, bottom_upper_lim, bottom_lower_lim):\n",
    "    pts1 = history['loss']\n",
    "    pts2 = history['val_loss']\n",
    "    fig, (ax1, ax2) = plt.subplots(2, 1, sharex=True)\n",
    "    fig.subplots_adjust(hspace=0.05)  # adjust space between axes\n",
    "\n",
    "    # plot the same data on both axes\n",
    "    ax1.plot(pts1, label='Training loss')\n",
    "    ax2.plot(pts1, label='Training loss')\n",
    "    ax1.plot(pts2, label='Validation loss')\n",
    "    ax2.plot(pts2, label='Validation loss')\n",
    "\n",
    "    # zoom-in / limit the view to different portions of the data\n",
    "    ax1.set_ylim(top_lower_lim, top_upper_lim)  # outliers only\n",
    "    ax2.set_ylim(bottom_lower_lim, bottom_upper_lim)  # most of the data\n",
    "\n",
    "    # hide the spines between ax and ax2\n",
    "    ax1.spines.bottom.set_visible(False)\n",
    "    ax2.spines.top.set_visible(False)\n",
    "    ax1.xaxis.tick_top()\n",
    "    ax1.tick_params(top = False) \n",
    "    ax1.tick_params(labeltop=False)  # don't put tick labels at the top\n",
    "    ax2.xaxis.tick_bottom()\n",
    "\n",
    "    # Now, let's turn towards the cut-out slanted lines.\n",
    "    # We create line objects in axes coordinates, in which (0,0), (0,1),\n",
    "    # (1,0), and (1,1) are the four corners of the axes.\n",
    "    # The slanted lines themselves are markers at those locations, such that the\n",
    "    # lines keep their angle and position, independent of the axes size or scale\n",
    "    # Finally, we need to disable clipping.\n",
    "\n",
    "    d = .7  # proportion of vertical to horizontal extent of the slanted line\n",
    "    kwargs = dict(marker=[(-1, -d), (1, d)], markersize=12,\n",
    "                  linestyle=\"none\", color='k', mec='k', mew=1, clip_on=False)\n",
    "    ax1.plot([0, 1], [0, 0], transform=ax1.transAxes, **kwargs)\n",
    "    ax2.plot([0, 1], [1, 1], transform=ax2.transAxes, **kwargs)\n",
    "    \n",
    "    ax1.legend(loc=\"upper right\")\n",
    "    plt.ylabel('Accuracy')\n",
    "    plt.xlabel('Epoch')\n",
    "    plt.show()"
   ]
  },
  {
   "cell_type": "code",
   "execution_count": null,
   "metadata": {},
   "outputs": [],
   "source": [
    "broken_loss_graph(vgg19_0_fit_history.history, 70., 50., 2., 0)"
   ]
  },
  {
   "cell_type": "code",
   "execution_count": null,
   "metadata": {},
   "outputs": [],
   "source": [
    "import matplotlib.pyplot as plt\n",
    "\n",
    "def accuracy_graph(history, title):\n",
    "    # Visualize model history\n",
    "    plt.plot(history['binary_accuracy'], label='Training accuracy')\n",
    "    plt.plot(history['val_binary_accuracy'], label='Validation accuracy')\n",
    "    plt.title(title)\n",
    "    plt.ylabel('Accuracy')\n",
    "    plt.xlabel('Epoch')\n",
    "    plt.legend(loc=\"upper left\")\n",
    "    plt.show()\n",
    "    \n",
    "def loss_graph(history, title):\n",
    "    plt.plot(history['loss'], label='Training loss')\n",
    "    plt.plot(history['val_loss'], label='Validation loss')\n",
    "    plt.title(title)\n",
    "    plt.ylabel('Loss value')\n",
    "    plt.xlabel('Epoch')\n",
    "    plt.legend(loc=\"upper right\")\n",
    "    plt.show()\n",
    "    \n",
    "def recall_graph(history, title):\n",
    "    keys = list(history.keys())\n",
    "    train_recall = keys[2]\n",
    "    train_precision = keys[3]\n",
    "    val_recall = keys[7]\n",
    "    val_precision = keys[8]\n",
    "    print(f'{train_recall}, {train_precision}, {val_recall}, {val_precision}')\n",
    "    # Visualize model history\n",
    "    plt.plot(history[train_recall], label='Training recall')\n",
    "    plt.plot(history[train_precision], label='Validation recall')\n",
    "    plt.title(title)\n",
    "    plt.ylabel('Recall')\n",
    "    plt.xlabel('Epoch')\n",
    "    plt.legend(loc=\"upper left\")\n",
    "    plt.show()"
   ]
  },
  {
   "cell_type": "code",
   "execution_count": null,
   "metadata": {},
   "outputs": [],
   "source": [
    "# Loss graphs\n",
    "loss_graph(cat_1_fit_history.history, \"Categorical Data Only Class 1 - Loss\")\n",
    "loss_graph(cat_2_fit_history.history, \"Categorical Data Only Class 2 - Loss\")\n",
    "loss_graph(cat_3_fit_history.history, \"Categorical Data Only Class 3 - Loss\")\n",
    "\n",
    "loss_graph(og_combo_1_fit_history.history, \"Alzheimer's Combo Class 1 - Loss\")\n",
    "loss_graph(og_combo_2_fit_history.history, \"Alzheimer's Combo Class 2 - Loss\")\n",
    "loss_graph(og_combo_3_fit_history.history, \"Alzheimer's Combo Class 3 - Loss\")\n",
    "\n",
    "loss_graph(og_0_fit_history.history, \"Alzheimer's Image Only - Loss\")\n",
    "loss_graph(og_1_fit_history.history, \"Alzheimer's Enhanced Class 1 - Loss\")\n",
    "loss_graph(og_2_fit_history.history, \"Alzheimer's Enhanced Class 2 - Loss\")\n",
    "loss_graph(og_3_fit_history.history, \"Alzheimer's Enhanced Class 3 - Loss\")\n",
    "\n",
    "loss_graph(vgg19_0_fit_history.history, \"VGG19 Image Only - Loss\")\n",
    "loss_graph(vgg19_1_fit_history.history, \"VGG19 Class 1 - Loss\")\n",
    "loss_graph(vgg19_2_fit_history.history, \"VGG19 Class 2 - Loss\")\n",
    "loss_graph(vgg19_3_fit_history.history, \"VGG19 Class 3 - Loss\")\n",
    "\n",
    "loss_graph(xception_0_fit_history.history, \"XCeption Image Only - Loss\")\n",
    "loss_graph(xception_1_fit_history.history, \"XCeption Class 1 - Loss\")\n",
    "loss_graph(xception_2_fit_history.history, \"XCeption Class 2 - Loss\")\n",
    "loss_graph(xception_3_fit_history.history, \"XCeption Class 3 - Loss\")"
   ]
  },
  {
   "cell_type": "code",
   "execution_count": null,
   "metadata": {},
   "outputs": [],
   "source": [
    "# Loss graphs without titles\n",
    "print(\"\\nCategorical Data Only Class 1 - Loss\")\n",
    "loss_graph(cat_1_fit_history.history, \"\")\n",
    "print(\"\\nCategorical Data Only Class 2 - Loss\")\n",
    "loss_graph(cat_2_fit_history.history, \"\")\n",
    "print(\"\\nCategorical Data Only Class 3 - Loss\")\n",
    "loss_graph(cat_3_fit_history.history, \"\")\n",
    "\n",
    "print(\"\\Alzheimer's Combo Class 1 - Loss\")\n",
    "loss_graph(og_combo_1_fit_history.history, \"\")\n",
    "print(\"\\Alzheimer's Combo Class 2 - Loss\")\n",
    "loss_graph(og_combo_2_fit_history.history, \"\")\n",
    "print(\"\\Alzheimer's Combo Class 3 - Loss\")\n",
    "loss_graph(og_combo_3_fit_history.history, \"\")\n",
    "\n",
    "print(\"\\nAlzheimer's Image Only - Loss\")\n",
    "loss_graph(og_0_fit_history.history, \"\")\n",
    "print(\"\\nAlzheimer's Enhanced Class 1 - Loss\")\n",
    "loss_graph(og_1_fit_history.history, \"\")\n",
    "print(\"\\nAlzheimer's Enhanced Class 2 - Loss\")\n",
    "loss_graph(og_2_fit_history.history, \"\")\n",
    "print(\"\\nAlzheimer's Enhanced Class 3 - Loss\")\n",
    "loss_graph(og_3_fit_history.history, \"\")\n",
    "\n",
    "print(\"\\nVGG19 Image Only - Loss\")\n",
    "loss_graph(vgg19_0_fit_history.history, \"\")\n",
    "print(\"\\nVGG19 Class 1 - Loss\")\n",
    "loss_graph(vgg19_1_fit_history.history, \"\")\n",
    "print(\"\\nVGG19 Class 2 - Loss\")\n",
    "loss_graph(vgg19_2_fit_history.history, \"\")\n",
    "print(\"\\nVGG19 Class 3 - Loss\")\n",
    "loss_graph(vgg19_3_fit_history.history, \"\")\n",
    "\n",
    "print(\"\\nXCeption Image Only - Loss\")\n",
    "loss_graph(xception_0_fit_history.history, \"\")\n",
    "print(\"\\nXCeption Class 1 - Loss\")\n",
    "loss_graph(xception_1_fit_history.history, \"\")\n",
    "print(\"\\nXCeption Class 2 - Loss\")\n",
    "loss_graph(xception_2_fit_history.history, \"\")\n",
    "print(\"\\nXCeption Class 3 - Loss\")\n",
    "loss_graph(xception_3_fit_history.history, \"\")"
   ]
  },
  {
   "cell_type": "code",
   "execution_count": null,
   "metadata": {},
   "outputs": [],
   "source": [
    "# Accuracy graphs\n",
    "accuracy_graph(cat_1_fit_history.history, \"Categorical Data Only Class 1 - Accuracy\")\n",
    "accuracy_graph(cat_2_fit_history.history, \"Categorical Data Only Class 2 - Accuracy\")\n",
    "accuracy_graph(cat_3_fit_history.history, \"Categorical Data Only Class 3 - Accuracy\")\n",
    "\n",
    "accuracy_graph(og_combo_1_fit_history.history, \"Alzheimer's Combo Class 1 - Accuracy\")\n",
    "accuracy_graph(og_combo_2_fit_history.history, \"Alzheimer's Combo Class 2 - Accuracy\")\n",
    "accuracy_graph(og_combo_3_fit_history.history, \"Alzheimer's Combo Class 3 - Accuracy\")\n",
    "\n",
    "accuracy_graph(og_0_fit_history.history, \"Alzheimer's Image Only - Accuracy\")\n",
    "accuracy_graph(og_1_fit_history.history, \"Alzheimer's Enhanced Class 1 - Accuracy\")\n",
    "accuracy_graph(og_2_fit_history.history, \"Alzheimer's Enhanced Class 2 - Accuracy\")\n",
    "accuracy_graph(og_3_fit_history.history, \"Alzheimer's Enhanced Class 3 - Accuracy\")\n",
    "\n",
    "accuracy_graph(vgg19_0_fit_history.history, \"VGG19 Image Only - Accuracy\")\n",
    "accuracy_graph(vgg19_1_fit_history.history, \"VGG19 Class 1 - Accuracy\")\n",
    "accuracy_graph(vgg19_2_fit_history.history, \"VGG19 Class 2 - Accuracy\")\n",
    "accuracy_graph(vgg19_3_fit_history.history, \"VGG19 Class 3 - Accuracy\")\n",
    "\n",
    "accuracy_graph(xception_0_fit_history.history, \"XCeption Image Only - Accuracy\")\n",
    "accuracy_graph(xception_1_fit_history.history, \"XCeption Class 1 - Accuracy\")\n",
    "accuracy_graph(xception_2_fit_history.history, \"XCeption Class 2 - Accuracy\")\n",
    "accuracy_graph(xception_3_fit_history.history, \"XCeption Class 3 - Accuracy\")"
   ]
  },
  {
   "cell_type": "code",
   "execution_count": null,
   "metadata": {},
   "outputs": [],
   "source": [
    "# Accuracy graphs without title\n",
    "print(\"\\nCategorical Data Only Class 1 - Accuracy\")\n",
    "accuracy_graph(cat_1_fit_history.history, \"\")\n",
    "print(\"\\nCategorical Data Only Class 2 - Accuracy\")\n",
    "accuracy_graph(cat_2_fit_history.history, \"\")\n",
    "print(\"\\nCategorical Data Only Class 3 - Accuracy\")\n",
    "accuracy_graph(cat_3_fit_history.history, \"\")\n",
    "\n",
    "print(\"\\nAlzheimer's Combo Class 1 - Accuracy\")\n",
    "accuracy_graph(og_combo_1_fit_history.history, \"\")\n",
    "print(\"\\nAlzheimer's Combo Class 2 - Accuracy\")\n",
    "accuracy_graph(og_combo_2_fit_history.history, \"\")\n",
    "print(\"\\nAlzheimer's Combo Class 3 - Accuracy\")\n",
    "accuracy_graph(og_combo_3_fit_history.history, \"\")\n",
    "\n",
    "print(\"\\nAlzheimer's Image Only - Accuracy\")\n",
    "accuracy_graph(og_0_fit_history.history, \"\")\n",
    "print(\"\\nAlzheimer's Enhanced Class 1 - Accuracy\")\n",
    "accuracy_graph(og_1_fit_history.history, \"\")\n",
    "print(\"\\nAlzheimer's Enhanced Class 2 - Accuracy\")\n",
    "accuracy_graph(og_2_fit_history.history, \"\")\n",
    "print(\"\\nAlzheimer's Enhanced Class 3 - Accuracy\")\n",
    "accuracy_graph(og_3_fit_history.history, \"\")\n",
    "\n",
    "print(\"\\nVGG19 Image Only - Accuracy\")\n",
    "accuracy_graph(vgg19_0_fit_history.history, \"\")\n",
    "print(\"\\nVGG19 Class 1 - Accuracy\")\n",
    "accuracy_graph(vgg19_1_fit_history.history, \"\")\n",
    "print(\"\\nVGG19 Class 2 - Accuracy\")\n",
    "accuracy_graph(vgg19_2_fit_history.history, \"\")\n",
    "print(\"\\nVGG19 Class 3 - Accuracy\")\n",
    "accuracy_graph(vgg19_3_fit_history.history, \"\")\n",
    "\n",
    "print(\"\\nXCeption Image Only - Accuracy\")\n",
    "accuracy_graph(xception_0_fit_history.history, \"\")\n",
    "print(\"\\nXCeption Class 1 - Accuracy\")\n",
    "accuracy_graph(xception_1_fit_history.history, \"\")\n",
    "print(\"\\nXCeption Class 2 - Accuracy\")\n",
    "accuracy_graph(xception_2_fit_history.history, \"\")\n",
    "print(\"\\nXCeption Class 3 - Accuracy\")\n",
    "accuracy_graph(xception_3_fit_history.history, \"\")"
   ]
  },
  {
   "cell_type": "code",
   "execution_count": null,
   "metadata": {},
   "outputs": [],
   "source": [
    "# Recall and precision graphs\n",
    "\n",
    "print(\"\\nCategorical Data Only Class 1 - Recall\")\n",
    "recall_graph(cat_1_fit_history.history, \"\")\n",
    "print(\"\\nCategorical Data Only Class 2 - Recall\")\n",
    "recall_graph(cat_2_fit_history.history, \"\")\n",
    "print(\"\\nCategorical Data Only Class 3 - Recall\")\n",
    "recall_graph(cat_3_fit_history.history, \"\")\n",
    "\n",
    "print(\"\\nAlzheimer's Combo Class 1 - Recall\")\n",
    "recall_graph(og_combo_1_fit_history.history, \"\")\n",
    "print(\"\\nAlzheimer's Combo Class 2 - Recall\")\n",
    "recall_graph(og_combo_2_fit_history.history, \"\")\n",
    "print(\"\\nAlzheimer's Combo Class 3 - Recall\")\n",
    "recall_graph(og_combo_3_fit_history.history, \"\")\n",
    "\n",
    "print(\"\\nAlzheimer's Image Only - Recall\")\n",
    "recall_graph(og_0_fit_history.history, \"\")\n",
    "print(\"\\nAlzheimer's Enhanced Class 1 - Recall\")\n",
    "recall_graph(og_1_fit_history.history, \"\")\n",
    "print(\"\\nAlzheimer's Enhanced Class 2 - Recall\")\n",
    "recall_graph(og_2_fit_history.history, \"\")\n",
    "print(\"\\nAlzheimer's Enhanced Class 3 - Recall\")\n",
    "recall_graph(og_3_fit_history.history, \"\")\n",
    "\n",
    "print(\"\\nVGG19 Image Only - Recall\")\n",
    "recall_graph(vgg19_0_fit_history.history, \"\")\n",
    "print(\"\\nVGG19 Class 1 - Recall\")\n",
    "recall_graph(vgg19_1_fit_history.history, \"\")\n",
    "print(\"\\nVGG19 Class 2 - Recall\")\n",
    "recall_graph(vgg19_2_fit_history.history, \"\")\n",
    "print(\"\\nVGG19 Class 3 - Recall\")\n",
    "recall_graph(vgg19_3_fit_history.history, \"\")\n",
    "\n",
    "print(\"\\nXCeption Image Only - Recall\")\n",
    "recall_graph(xception_0_fit_history.history, \"\")\n",
    "print(\"\\nXCeption Class 1 - Recall\")\n",
    "recall_graph(xception_1_fit_history.history, \"\")\n",
    "print(\"\\nXCeption Class 2 - Recall\")\n",
    "recall_graph(xception_2_fit_history.history, \"\")\n",
    "print(\"\\nXCeption Class 3 - Recall\")\n",
    "recall_graph(xception_3_fit_history.history, \"\")"
   ]
  }
 ],
 "metadata": {
  "kaggle": {
   "accelerator": "gpu",
   "dataSources": [
    {
     "datasetId": 1115384,
     "sourceId": 1873742,
     "sourceType": "datasetVersion"
    }
   ],
   "dockerImageVersionId": 30587,
   "isGpuEnabled": true,
   "isInternetEnabled": true,
   "language": "python",
   "sourceType": "notebook"
  },
  "kernelspec": {
   "display_name": "kex-env",
   "language": "python",
   "name": "python3"
  },
  "language_info": {
   "codemirror_mode": {
    "name": "ipython",
    "version": 3
   },
   "file_extension": ".py",
   "mimetype": "text/x-python",
   "name": "python",
   "nbconvert_exporter": "python",
   "pygments_lexer": "ipython3",
   "version": "3.9.19"
  }
 },
 "nbformat": 4,
 "nbformat_minor": 4
}
